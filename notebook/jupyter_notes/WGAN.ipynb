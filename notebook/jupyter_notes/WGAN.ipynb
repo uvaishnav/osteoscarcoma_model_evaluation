{
 "cells": [
  {
   "cell_type": "markdown",
   "metadata": {},
   "source": [
    "Importing nessesary Libraries"
   ]
  },
  {
   "cell_type": "code",
   "execution_count": 88,
   "metadata": {},
   "outputs": [],
   "source": [
    "import tensorflow as tf\n",
    "import numpy as np\n",
    "from tensorflow.keras.preprocessing.image import ImageDataGenerator\n",
    "from tensorflow.keras import layers,models,optimizers\n",
    "import matplotlib.pyplot as plt\n",
    "import os\n"
   ]
  },
  {
   "cell_type": "markdown",
   "metadata": {},
   "source": [
    "DEFINING VARIABLES"
   ]
  },
  {
   "cell_type": "code",
   "execution_count": 68,
   "metadata": {},
   "outputs": [],
   "source": [
    "img_height = 224\n",
    "img_width = 224\n",
    "num_channels = 3\n",
    "batch_size = 32\n",
    "num_classes = 3\n",
    "latent_dim = 100"
   ]
  },
  {
   "cell_type": "markdown",
   "metadata": {},
   "source": [
    "DIRECTORY PATH"
   ]
  },
  {
   "cell_type": "code",
   "execution_count": 69,
   "metadata": {},
   "outputs": [],
   "source": [
    "train_dir = '/Users/uvaishnav/osteoscarcoma_evaluation_project/artifacts/train'"
   ]
  },
  {
   "cell_type": "markdown",
   "metadata": {},
   "source": [
    "LOAD IMAGES"
   ]
  },
  {
   "cell_type": "code",
   "execution_count": 70,
   "metadata": {},
   "outputs": [
    {
     "name": "stdout",
     "output_type": "stream",
     "text": [
      "Found 800 images belonging to 3 classes.\n"
     ]
    }
   ],
   "source": [
    "\n",
    "datagen = ImageDataGenerator(\n",
    "    rescale = 1/255.0\n",
    ")\n",
    "\n",
    "train_generator = datagen.flow_from_directory(\n",
    "    train_dir,\n",
    "    target_size = (img_height,img_width),\n",
    "    batch_size = batch_size,\n",
    "    class_mode = 'categorical',\n",
    "    shuffle = True\n",
    ")"
   ]
  },
  {
   "cell_type": "markdown",
   "metadata": {},
   "source": [
    "DEFINE GENERATOR"
   ]
  },
  {
   "cell_type": "code",
   "execution_count": 71,
   "metadata": {},
   "outputs": [],
   "source": [
    "class Generator:\n",
    "    def __init__(self, latent_dim,num_classes):\n",
    "        self.latent_dim = latent_dim\n",
    "        self.num_classes = num_classes\n",
    "        self.model = self.build_generator()\n",
    "\n",
    "    def combine_noise_labels_gen(self,generator_input, labels_input):\n",
    "        return layers.concatenate([generator_input,labels_input])\n",
    "    \n",
    "    def make_image_block(self,x,filters,kernel_size,strides=2):\n",
    "        x = layers.Conv2DTranspose(filters,kernel_size,strides=strides,padding='same',use_bias=False,kernel_initializer='he_normal')(x)\n",
    "        x = layers.BatchNormalization(gamma_initializer='he_normal',beta_initializer='zeros')(x)\n",
    "        x = layers.LeakyReLU(0.2)(x)\n",
    "        return x\n",
    "\n",
    "    \n",
    "    def build_generator(self):\n",
    "        generator_input = layers.Input(shape=(self.latent_dim,))\n",
    "        labels_input = layers.Input(shape=(self.num_classes,))\n",
    "        combined_input = self.combine_noise_labels_gen(generator_input,labels_input)\n",
    "\n",
    "        x = layers.Dense(7*7*512, use_bias=False, kernel_initializer='he_normal')(combined_input)\n",
    "        x = layers.Reshape((7, 7, 512))(x)\n",
    "        x = layers.BatchNormalization(gamma_initializer='he_normal',beta_initializer='zeros')(x)\n",
    "        x = layers.LeakyReLU(0.2)(x)\n",
    "\n",
    "        x = self.make_image_block(x, 512, 5)\n",
    "        x = self.make_image_block(x, 256, 3)\n",
    "        x = self.make_image_block(x, 256, 3)\n",
    "        x = self.make_image_block(x, 64, 3)\n",
    "        x = self.make_image_block(x, 32, 4)\n",
    "\n",
    "        x = layers.Conv2DTranspose(3, 7, padding='same', activation='tanh', use_bias=False, kernel_initializer='he_normal')(x)\n",
    "\n",
    "        generator = models.Model([generator_input, labels_input], x)\n",
    "\n",
    "        return generator\n",
    "\n"
   ]
  },
  {
   "cell_type": "markdown",
   "metadata": {},
   "source": [
    "GETTING GENERATOR SUMMARY (TEST)"
   ]
  },
  {
   "cell_type": "code",
   "execution_count": 72,
   "metadata": {},
   "outputs": [
    {
     "name": "stdout",
     "output_type": "stream",
     "text": [
      "Model: \"model_1\"\n",
      "__________________________________________________________________________________________________\n",
      " Layer (type)                Output Shape                 Param #   Connected to                  \n",
      "==================================================================================================\n",
      " input_33 (InputLayer)       [(None, 100)]                0         []                            \n",
      "                                                                                                  \n",
      " input_34 (InputLayer)       [(None, 3)]                  0         []                            \n",
      "                                                                                                  \n",
      " concatenate_16 (Concatenat  (None, 103)                  0         ['input_33[0][0]',            \n",
      " e)                                                                  'input_34[0][0]']            \n",
      "                                                                                                  \n",
      " dense_13 (Dense)            (None, 25088)                2584064   ['concatenate_16[0][0]']      \n",
      "                                                                                                  \n",
      " reshape_2 (Reshape)         (None, 7, 7, 512)            0         ['dense_13[0][0]']            \n",
      "                                                                                                  \n",
      " batch_normalization_7 (Bat  (None, 7, 7, 512)            2048      ['reshape_2[0][0]']           \n",
      " chNormalization)                                                                                 \n",
      "                                                                                                  \n",
      " leaky_re_lu_7 (LeakyReLU)   (None, 7, 7, 512)            0         ['batch_normalization_7[0][0]'\n",
      "                                                                    ]                             \n",
      "                                                                                                  \n",
      " conv2d_transpose_6 (Conv2D  (None, 14, 14, 512)          6553600   ['leaky_re_lu_7[0][0]']       \n",
      " Transpose)                                                                                       \n",
      "                                                                                                  \n",
      " batch_normalization_8 (Bat  (None, 14, 14, 512)          2048      ['conv2d_transpose_6[0][0]']  \n",
      " chNormalization)                                                                                 \n",
      "                                                                                                  \n",
      " leaky_re_lu_8 (LeakyReLU)   (None, 14, 14, 512)          0         ['batch_normalization_8[0][0]'\n",
      "                                                                    ]                             \n",
      "                                                                                                  \n",
      " conv2d_transpose_7 (Conv2D  (None, 28, 28, 256)          1179648   ['leaky_re_lu_8[0][0]']       \n",
      " Transpose)                                                                                       \n",
      "                                                                                                  \n",
      " batch_normalization_9 (Bat  (None, 28, 28, 256)          1024      ['conv2d_transpose_7[0][0]']  \n",
      " chNormalization)                                                                                 \n",
      "                                                                                                  \n",
      " leaky_re_lu_9 (LeakyReLU)   (None, 28, 28, 256)          0         ['batch_normalization_9[0][0]'\n",
      "                                                                    ]                             \n",
      "                                                                                                  \n",
      " conv2d_transpose_8 (Conv2D  (None, 56, 56, 256)          589824    ['leaky_re_lu_9[0][0]']       \n",
      " Transpose)                                                                                       \n",
      "                                                                                                  \n",
      " batch_normalization_10 (Ba  (None, 56, 56, 256)          1024      ['conv2d_transpose_8[0][0]']  \n",
      " tchNormalization)                                                                                \n",
      "                                                                                                  \n",
      " leaky_re_lu_10 (LeakyReLU)  (None, 56, 56, 256)          0         ['batch_normalization_10[0][0]\n",
      "                                                                    ']                            \n",
      "                                                                                                  \n",
      " conv2d_transpose_9 (Conv2D  (None, 112, 112, 64)         147456    ['leaky_re_lu_10[0][0]']      \n",
      " Transpose)                                                                                       \n",
      "                                                                                                  \n",
      " batch_normalization_11 (Ba  (None, 112, 112, 64)         256       ['conv2d_transpose_9[0][0]']  \n",
      " tchNormalization)                                                                                \n",
      "                                                                                                  \n",
      " leaky_re_lu_11 (LeakyReLU)  (None, 112, 112, 64)         0         ['batch_normalization_11[0][0]\n",
      "                                                                    ']                            \n",
      "                                                                                                  \n",
      " conv2d_transpose_10 (Conv2  (None, 224, 224, 32)         32768     ['leaky_re_lu_11[0][0]']      \n",
      " DTranspose)                                                                                      \n",
      "                                                                                                  \n",
      " batch_normalization_12 (Ba  (None, 224, 224, 32)         128       ['conv2d_transpose_10[0][0]'] \n",
      " tchNormalization)                                                                                \n",
      "                                                                                                  \n",
      " leaky_re_lu_12 (LeakyReLU)  (None, 224, 224, 32)         0         ['batch_normalization_12[0][0]\n",
      "                                                                    ']                            \n",
      "                                                                                                  \n",
      " conv2d_transpose_11 (Conv2  (None, 224, 224, 3)          4704      ['leaky_re_lu_12[0][0]']      \n",
      " DTranspose)                                                                                      \n",
      "                                                                                                  \n",
      "==================================================================================================\n",
      "Total params: 11098592 (42.34 MB)\n",
      "Trainable params: 11095328 (42.33 MB)\n",
      "Non-trainable params: 3264 (12.75 KB)\n",
      "__________________________________________________________________________________________________\n"
     ]
    }
   ],
   "source": [
    "test_gen = Generator(latent_dim,num_classes).model\n",
    "test_gen.summary()"
   ]
  },
  {
   "cell_type": "markdown",
   "metadata": {},
   "source": [
    "DEFINE CRITIC"
   ]
  },
  {
   "cell_type": "code",
   "execution_count": 73,
   "metadata": {},
   "outputs": [],
   "source": [
    "class Critic:\n",
    "    def __init__(self,input_shape,num_classes):\n",
    "        self.input_shape = input_shape\n",
    "        self.num_classes = num_classes\n",
    "        self.model = self.build_critic()\n",
    "\n",
    "    def combine_img_labels_critic(self,critic_input,labels_input):\n",
    "        label_resized = layers.Reshape((1, 1, num_classes))(labels_input) \n",
    "        label_resized = tf.image.resize(label_resized, (self.input_shape[0], self.input_shape[1]))\n",
    "\n",
    "        return layers.Concatenate(axis=-1)([critic_input, label_resized])\n",
    "    \n",
    "    def make_critic_block(self,x,filters,kernel_size=3,strides=2):\n",
    "        x = layers.Conv2D(filters,kernel_size,strides=strides,padding='same',kernel_initializer='he_normal')(x)\n",
    "        x = layers.BatchNormalization(gamma_initializer='he_normal',beta_initializer='zeros')(x)\n",
    "        x = layers.LeakyReLU(0.2)(x)\n",
    "        x = layers.Dropout(0.5)(x)\n",
    "        return x\n",
    "\n",
    "    def build_critic(self):\n",
    "        critic_input = layers.Input(shape=(self.input_shape))\n",
    "        labels_input = layers.Input(shape=(self.num_classes,))\n",
    "        combined_input = self.combine_img_labels_critic(critic_input,labels_input)\n",
    "\n",
    "        x = self.make_critic_block(combined_input, 64, 3)\n",
    "        x = self.make_critic_block(x, 128, 3)\n",
    "        x = self.make_critic_block(x, 256, 3)\n",
    "        x = self.make_critic_block(x, 512, 3)\n",
    "        x = self.make_critic_block(x, 512, 3)\n",
    "\n",
    "        x = layers.Flatten()(x)\n",
    "        x = layers.Dense(120, activation='relu',kernel_initializer='he_normal')(x)\n",
    "        x = layers.Dense(84, activation='relu',kernel_initializer='he_normal')(x)\n",
    "        x = layers.Dropout(0.2)(x)\n",
    "        x = layers.Dense(1)(x)\n",
    "\n",
    "        critic = models.Model([critic_input, labels_input], x)\n",
    "        return critic\n",
    "\n"
   ]
  },
  {
   "cell_type": "markdown",
   "metadata": {},
   "source": [
    "GETTING CRITIC SUMMARY (TEST)"
   ]
  },
  {
   "cell_type": "code",
   "execution_count": 74,
   "metadata": {},
   "outputs": [
    {
     "name": "stdout",
     "output_type": "stream",
     "text": [
      "Model: \"model_2\"\n",
      "__________________________________________________________________________________________________\n",
      " Layer (type)                Output Shape                 Param #   Connected to                  \n",
      "==================================================================================================\n",
      " input_36 (InputLayer)       [(None, 3)]                  0         []                            \n",
      "                                                                                                  \n",
      " reshape_3 (Reshape)         (None, 1, 1, 3)              0         ['input_36[0][0]']            \n",
      "                                                                                                  \n",
      " input_35 (InputLayer)       [(None, 224, 224, 3)]        0         []                            \n",
      "                                                                                                  \n",
      " tf.image.resize (TFOpLambd  (None, 224, 224, 3)          0         ['reshape_3[0][0]']           \n",
      " a)                                                                                               \n",
      "                                                                                                  \n",
      " concatenate_17 (Concatenat  (None, 224, 224, 6)          0         ['input_35[0][0]',            \n",
      " e)                                                                  'tf.image.resize[0][0]']     \n",
      "                                                                                                  \n",
      " conv2d (Conv2D)             (None, 112, 112, 64)         3520      ['concatenate_17[0][0]']      \n",
      "                                                                                                  \n",
      " batch_normalization_13 (Ba  (None, 112, 112, 64)         256       ['conv2d[0][0]']              \n",
      " tchNormalization)                                                                                \n",
      "                                                                                                  \n",
      " leaky_re_lu_13 (LeakyReLU)  (None, 112, 112, 64)         0         ['batch_normalization_13[0][0]\n",
      "                                                                    ']                            \n",
      "                                                                                                  \n",
      " dropout (Dropout)           (None, 112, 112, 64)         0         ['leaky_re_lu_13[0][0]']      \n",
      "                                                                                                  \n",
      " conv2d_1 (Conv2D)           (None, 56, 56, 128)          73856     ['dropout[0][0]']             \n",
      "                                                                                                  \n",
      " batch_normalization_14 (Ba  (None, 56, 56, 128)          512       ['conv2d_1[0][0]']            \n",
      " tchNormalization)                                                                                \n",
      "                                                                                                  \n",
      " leaky_re_lu_14 (LeakyReLU)  (None, 56, 56, 128)          0         ['batch_normalization_14[0][0]\n",
      "                                                                    ']                            \n",
      "                                                                                                  \n",
      " dropout_1 (Dropout)         (None, 56, 56, 128)          0         ['leaky_re_lu_14[0][0]']      \n",
      "                                                                                                  \n",
      " conv2d_2 (Conv2D)           (None, 28, 28, 256)          295168    ['dropout_1[0][0]']           \n",
      "                                                                                                  \n",
      " batch_normalization_15 (Ba  (None, 28, 28, 256)          1024      ['conv2d_2[0][0]']            \n",
      " tchNormalization)                                                                                \n",
      "                                                                                                  \n",
      " leaky_re_lu_15 (LeakyReLU)  (None, 28, 28, 256)          0         ['batch_normalization_15[0][0]\n",
      "                                                                    ']                            \n",
      "                                                                                                  \n",
      " dropout_2 (Dropout)         (None, 28, 28, 256)          0         ['leaky_re_lu_15[0][0]']      \n",
      "                                                                                                  \n",
      " conv2d_3 (Conv2D)           (None, 14, 14, 512)          1180160   ['dropout_2[0][0]']           \n",
      "                                                                                                  \n",
      " batch_normalization_16 (Ba  (None, 14, 14, 512)          2048      ['conv2d_3[0][0]']            \n",
      " tchNormalization)                                                                                \n",
      "                                                                                                  \n",
      " leaky_re_lu_16 (LeakyReLU)  (None, 14, 14, 512)          0         ['batch_normalization_16[0][0]\n",
      "                                                                    ']                            \n",
      "                                                                                                  \n",
      " dropout_3 (Dropout)         (None, 14, 14, 512)          0         ['leaky_re_lu_16[0][0]']      \n",
      "                                                                                                  \n",
      " conv2d_4 (Conv2D)           (None, 7, 7, 512)            2359808   ['dropout_3[0][0]']           \n",
      "                                                                                                  \n",
      " batch_normalization_17 (Ba  (None, 7, 7, 512)            2048      ['conv2d_4[0][0]']            \n",
      " tchNormalization)                                                                                \n",
      "                                                                                                  \n",
      " leaky_re_lu_17 (LeakyReLU)  (None, 7, 7, 512)            0         ['batch_normalization_17[0][0]\n",
      "                                                                    ']                            \n",
      "                                                                                                  \n",
      " dropout_4 (Dropout)         (None, 7, 7, 512)            0         ['leaky_re_lu_17[0][0]']      \n",
      "                                                                                                  \n",
      " flatten (Flatten)           (None, 25088)                0         ['dropout_4[0][0]']           \n",
      "                                                                                                  \n",
      " dense_14 (Dense)            (None, 120)                  3010680   ['flatten[0][0]']             \n",
      "                                                                                                  \n",
      " dense_15 (Dense)            (None, 84)                   10164     ['dense_14[0][0]']            \n",
      "                                                                                                  \n",
      " dropout_5 (Dropout)         (None, 84)                   0         ['dense_15[0][0]']            \n",
      "                                                                                                  \n",
      " dense_16 (Dense)            (None, 1)                    85        ['dropout_5[0][0]']           \n",
      "                                                                                                  \n",
      "==================================================================================================\n",
      "Total params: 6939329 (26.47 MB)\n",
      "Trainable params: 6936385 (26.46 MB)\n",
      "Non-trainable params: 2944 (11.50 KB)\n",
      "__________________________________________________________________________________________________\n"
     ]
    }
   ],
   "source": [
    "critic_test = Critic(input_shape=(224,224,3),num_classes=num_classes).model\n",
    "critic_test.summary()"
   ]
  },
  {
   "cell_type": "markdown",
   "metadata": {},
   "source": [
    "To display the images by generator"
   ]
  },
  {
   "cell_type": "code",
   "execution_count": 76,
   "metadata": {},
   "outputs": [
    {
     "name": "stdout",
     "output_type": "stream",
     "text": [
      "dict_keys(['Non-Tumor', 'Non-Viable-Tumor', 'Viable'])\n"
     ]
    }
   ],
   "source": [
    "class_names = train_generator.class_indices.keys()\n",
    "print(class_names)"
   ]
  },
  {
   "cell_type": "code",
   "execution_count": 77,
   "metadata": {},
   "outputs": [],
   "source": [
    "def generate_and_display_images(generator, epoch, latent_dim=latent_dim, class_names=class_names):\n",
    "    plt.figure(figsize=(10, 10))\n",
    "    for class_label, class_name in enumerate(class_names):\n",
    "\n",
    "        # Create a one-hot encoded label for the current class\n",
    "        label = tf.one_hot([class_label], num_classes)\n",
    "\n",
    "        # Generate a fake image using random noise and the one-hot encoded label\n",
    "        noise = tf.random.normal(shape=(1, latent_dim))\n",
    "        generate_image = generator([noise, label], training=False)\n",
    "\n",
    "        # Plot the generated image\n",
    "        plt.subplot(1, num_classes, class_label + 1)\n",
    "        # Generated image pixels will be in range[-1,1] but imshow in matplotlib expects them between[0,1] so,\n",
    "        plt.imshow((generate_image[0] * 0.5 + 0.5).numpy())\n",
    "        plt.title(class_name)\n",
    "        plt.axis(\"off\")\n",
    "\n",
    "    plt.suptitle(\"Generated Images at Epoch {}\".format(epoch))\n",
    "    \n",
    "    # Adjust spacing between subplots\n",
    "    plt.subplots_adjust(top=0.85, wspace=0.3)\n",
    "    \n",
    "    plt.show()\n"
   ]
  },
  {
   "cell_type": "markdown",
   "metadata": {},
   "source": [
    "TRAINING CONSTANTS"
   ]
  },
  {
   "cell_type": "code",
   "execution_count": 78,
   "metadata": {},
   "outputs": [],
   "source": [
    "c_lambda = 10\n",
    "num_epochs = 500\n",
    "learning_rate = 0.0002\n",
    "critic_train_steps = 5\n",
    "beta_1 = 0.5\n",
    "beta_2 = 0.999\n"
   ]
  },
  {
   "cell_type": "markdown",
   "metadata": {},
   "source": [
    "WASSERSTEIN LOSSES"
   ]
  },
  {
   "cell_type": "code",
   "execution_count": 79,
   "metadata": {},
   "outputs": [],
   "source": [
    "def compute_generator_loss(critic_fake_score):\n",
    "    # critic_fake_score : the critic's scores of the fake images\n",
    "    gen_loss = -tf.reduce_mean(critic_fake_score)\n",
    "    return gen_loss\n",
    "\n",
    "def compute_critic_loss(critic_fake_score,critic_real_score,gradient_penality,c_lambda=c_lambda):\n",
    "    # critic_fake_score : the critic's scores of the fake images\n",
    "    # critic_real_score : the critic's scores of the real images\n",
    "    # gradient_penality : the unweighted gradient penalty\n",
    "    # c_lambda: the current weight of the gradient penalty (hyperparameter usually initialized to 10)\n",
    "\n",
    "    critic_loss = tf.reduce_mean(critic_fake_score) - tf.reduce_mean(critic_real_score) + c_lambda * gradient_penality\n",
    "    return critic_loss\n",
    "\n",
    "    "
   ]
  },
  {
   "cell_type": "markdown",
   "metadata": {},
   "source": [
    "GRADIENT PENALITY"
   ]
  },
  {
   "cell_type": "markdown",
   "metadata": {},
   "source": [
    "1) Compute Gradient with respect to images\n",
    "2) Compute Gradient Penality given the gradient"
   ]
  },
  {
   "cell_type": "markdown",
   "metadata": {},
   "source": [
    "-  The gradient is computed by first creating a mixed image.\n",
    "-  This is done by Weighing fake and real images using a parameter (epsilon) and adding them together, we will get an intermediate mixed image\n",
    "-  Get the critics output on the mixed image (crictic score)\n",
    "-  Compute the gradient of critic's score on mixed images."
   ]
  },
  {
   "cell_type": "code",
   "execution_count": 80,
   "metadata": {},
   "outputs": [],
   "source": [
    "def get_gradient(critic, real, fake, labels_one_hot, epsilon):\n",
    "    # critic : The critic model\n",
    "    # real : batch of real images\n",
    "    # fake : batch of fake images\n",
    "    # epsilon : a vector of the uniformly random proportions of real/fake per mixed image\n",
    "\n",
    "    with tf.GradientTape() as tape:\n",
    "        mixed_images = (real * epsilon) + (fake * (1 - epsilon))\n",
    "        tape.watch(mixed_images)\n",
    "        mixed_score = critic([mixed_images, labels_one_hot])\n",
    "        # print(mixed_score)\n",
    "        \n",
    "    gradient_mixed = tape.gradient(mixed_score, mixed_images)\n",
    "    # print(gradient_mixed)\n",
    "    return gradient_mixed"
   ]
  },
  {
   "cell_type": "code",
   "execution_count": 81,
   "metadata": {},
   "outputs": [],
   "source": [
    "def compute_gradient_penalty(gradient):\n",
    "    # gradient : gradient of the critic score with respect to mixed images\n",
    "\n",
    "    gradient = tf.reshape(gradient,(tf.shape(gradient)[0],-1))\n",
    "    gradient_norm = tf.norm(gradient,ord=2,axis=1)\n",
    "\n",
    "    penalty = tf.reduce_mean((gradient_norm - 1)**2)\n",
    "\n",
    "    return penalty"
   ]
  },
  {
   "cell_type": "markdown",
   "metadata": {},
   "source": [
    "GETTING GENERATOR AND CRITIC INSTANCES"
   ]
  },
  {
   "cell_type": "code",
   "execution_count": 83,
   "metadata": {},
   "outputs": [],
   "source": [
    "generator = Generator(latent_dim=latent_dim,num_classes=num_classes).model\n",
    "critic = Critic(input_shape=(img_height,img_width,num_channels),num_classes=num_classes).model"
   ]
  },
  {
   "cell_type": "markdown",
   "metadata": {},
   "source": [
    "DEFINING OPTIMIZERS FOR GENERATOR AND CRITIC"
   ]
  },
  {
   "cell_type": "code",
   "execution_count": 86,
   "metadata": {},
   "outputs": [
    {
     "name": "stderr",
     "output_type": "stream",
     "text": [
      "WARNING:absl:At this time, the v2.11+ optimizer `tf.keras.optimizers.Adam` runs slowly on M1/M2 Macs, please use the legacy Keras optimizer instead, located at `tf.keras.optimizers.legacy.Adam`.\n",
      "WARNING:absl:At this time, the v2.11+ optimizer `tf.keras.optimizers.Adam` runs slowly on M1/M2 Macs, please use the legacy Keras optimizer instead, located at `tf.keras.optimizers.legacy.Adam`.\n"
     ]
    }
   ],
   "source": [
    "gen_optimizer = tf.keras.optimizers.Adam(learning_rate, beta_1, beta_2)\n",
    "critic_optimizer = tf.keras.optimizers.Adam(learning_rate, beta_1, beta_2)"
   ]
  },
  {
   "cell_type": "markdown",
   "metadata": {},
   "source": [
    "MODEL CHECK POINT INITIALIZATION"
   ]
  },
  {
   "cell_type": "code",
   "execution_count": 93,
   "metadata": {},
   "outputs": [],
   "source": [
    "# Define the base directory for checkpoints\n",
    "checkpoint_path = '/Users/uvaishnav/osteoscarcoma_evaluation_project/artifacts/gan_checkpoints'"
   ]
  },
  {
   "cell_type": "code",
   "execution_count": 94,
   "metadata": {},
   "outputs": [],
   "source": [
    "\n",
    "# Create directory for generator checkpoints\n",
    "checkpoint_path_gen = os.path.join(checkpoint_path, 'generator')\n",
    "os.makedirs(checkpoint_path_gen, exist_ok=True)\n",
    "\n",
    "# Define checkpoint file prefix\n",
    "checkpoint_prefix_gen = os.path.join(checkpoint_path_gen, 'ckpt')\n",
    "\n",
    "# Define the checkpoint callback for the generator\n",
    "checkpoint_callback_gen = tf.keras.callbacks.ModelCheckpoint(filepath=checkpoint_prefix_gen, save_weights_only=True, save_best_only=True)\n"
   ]
  },
  {
   "cell_type": "code",
   "execution_count": 95,
   "metadata": {},
   "outputs": [],
   "source": [
    "checkpoint_path_critic = os.path.join(checkpoint_path,'critic')\n",
    "os.makedirs(checkpoint_path_critic, exist_ok=True)\n",
    "\n",
    "checkpoint_prefix_critic = os.path.join(checkpoint_path_critic, 'ckpt')\n",
    "\n",
    "checkpoint_callback_critic = tf.keras.callbacks.ModelCheckpoint(filepath=checkpoint_prefix_critic, save_weights_only=True, save_best_only=True)"
   ]
  },
  {
   "cell_type": "markdown",
   "metadata": {},
   "source": [
    "TRAINING"
   ]
  },
  {
   "cell_type": "code",
   "execution_count": 87,
   "metadata": {},
   "outputs": [],
   "source": [
    "current_step = 0\n",
    "display_step = 500\n",
    "generator_losses = []\n",
    "critic_losses = []\n",
    "generator_losses_epoch = []\n",
    "critic_losses_epoch = []"
   ]
  },
  {
   "cell_type": "code",
   "execution_count": null,
   "metadata": {},
   "outputs": [],
   "source": [
    "for epoch in range(num_epochs):\n",
    "    for batch in range(len(train_generator)):\n",
    "        real_images_batch, labels = train_generator.__next__()\n",
    "        real_images_batch = tf.convert_to_tensor(real_images_batch)\n",
    "        one_hot_labels = tf.one_hot(tf.argmax(labels, axis=1), num_classes)\n",
    "\n",
    "        mean_iter_critic_loss = 0\n",
    "        for step in range(critic_train_steps):\n",
    "            ## Update Critic\n",
    "            with tf.GradientTape() as critic_tape:\n",
    "                fake_noise = tf.random.normal(shape=(batch_size,latent_dim))\n",
    "                generated_images = generator([fake_noise, one_hot_labels])\n",
    "\n",
    "                critic_fake_predictions = critic([generated_images, one_hot_labels],training=True)\n",
    "                critic_real_predictions = critic([real_images_batch, one_hot_labels],training=True)\n",
    "\n",
    "                epsilon = tf.random.uniform((batch_size,1,1,1))\n",
    "                gradient_mix = get_gradient(critic=critic, real=real_images_batch, fake=generated_images, labels_one_hot=one_hot_labels, epsilon=epsilon)\n",
    "                gradient_penalty = compute_gradient_penalty(gradient_mix)\n",
    "                critic_loss = compute_critic_loss(critic_fake_score=critic_fake_predictions, critic_real_score=critic_real_predictions,gradient_penality=gradient_penalty,c_lambda=c_lambda)\n",
    "\n",
    "            # Keep track of the average critic loss in this batch\n",
    "            mean_iter_critic_loss += critic_loss / critic_train_steps\n",
    "            # Update gradients\n",
    "            critic_gradients = critic_tape.gradient(critic_loss, critic.trainable_variables)\n",
    "            # Update optimizer\n",
    "            critic_optimizer.apply_gradients(zip(critic_gradients, critic.trainable_variables))\n",
    "        # Critic Loss\n",
    "        critic_losses.append(mean_iter_critic_loss.numpy())\n",
    "\n",
    "        # Update Generator\n",
    "        with tf.GradientTape() as generator_tape:\n",
    "            fake_noise_2 = tf.random.normal(shape=(batch_size,latent_dim))\n",
    "            generated_images_2 = generator([fake_noise_2, one_hot_labels],training=True)\n",
    "            critic_fake_predictions_2 = critic([generated_images_2, one_hot_labels])\n",
    "            generator_loss = compute_generator_loss(critic_fake_score=critic_fake_predictions_2)\n",
    "\n",
    "        # Update weights\n",
    "        generator_gradients = generator_tape.gradient(generator_loss, generator.trainable_variables)\n",
    "        # Update optimizer\n",
    "        gen_optimizer.apply_gradients(zip(generator_gradients, generator.trainable_variables))\n",
    "        # Generator Loss\n",
    "        generator_losses.append(generator_loss.numpy())\n",
    "\n",
    "        # Compute mean losses for the epoch\n",
    "        generator_loss_epoch = sum(generator_losses[-len(train_generator):]) / len(train_generator)\n",
    "        critic_loss_epoch = sum(critic_losses[-len(train_generator):]) / len(train_generator)\n",
    "\n",
    "        # Append mean losses to the lists\n",
    "        generator_losses_epoch.append(generator_loss_epoch)\n",
    "        critic_losses_epoch.append(critic_loss_epoch)\n",
    "\n",
    "        # Display Progress\n",
    "        if current_step % display_step == 0 and current_step > 0:\n",
    "            gen_mean = sum(generator_losses[-display_step:]) / display_step\n",
    "            critic_mean = sum(critic_losses[-display_step:]) / display_step\n",
    "            print(f\"Epoch {epoch}, step {current_step}: Generator loss: {gen_mean}, critic loss: {critic_mean}\")\n",
    "        \n",
    "        current_step += 1\n",
    "    \n",
    "    generator.save_weights(checkpoint_prefix_gen)\n",
    "    critic.save_weights(checkpoint_prefix_critic)\n",
    "\n",
    "    if((epoch + 1) % 50 == 0):\n",
    "        generate_and_display_images(generator=generator, epoch=epoch)\n",
    "           \n"
   ]
  },
  {
   "cell_type": "markdown",
   "metadata": {},
   "source": [
    "After training, load the best checkpoints"
   ]
  },
  {
   "cell_type": "code",
   "execution_count": null,
   "metadata": {},
   "outputs": [],
   "source": [
    "generator.load_weights(checkpoint_prefix_gen)\n",
    "critic.load_weights(checkpoint_prefix_critic)"
   ]
  },
  {
   "cell_type": "markdown",
   "metadata": {},
   "source": [
    "Plot progress of generator and critic losses"
   ]
  },
  {
   "cell_type": "code",
   "execution_count": 96,
   "metadata": {},
   "outputs": [
    {
     "ename": "NameError",
     "evalue": "name 'generator_losses_epoch' is not defined",
     "output_type": "error",
     "traceback": [
      "\u001b[0;31m---------------------------------------------------------------------------\u001b[0m",
      "\u001b[0;31mNameError\u001b[0m                                 Traceback (most recent call last)",
      "Cell \u001b[0;32mIn[96], line 2\u001b[0m\n\u001b[1;32m      1\u001b[0m plt\u001b[38;5;241m.\u001b[39mfigure(figsize\u001b[38;5;241m=\u001b[39m(\u001b[38;5;241m10\u001b[39m, \u001b[38;5;241m5\u001b[39m))\n\u001b[0;32m----> 2\u001b[0m plt\u001b[38;5;241m.\u001b[39mplot(\u001b[43mgenerator_losses_epoch\u001b[49m, label\u001b[38;5;241m=\u001b[39m\u001b[38;5;124m'\u001b[39m\u001b[38;5;124mGenerator Loss\u001b[39m\u001b[38;5;124m'\u001b[39m, color\u001b[38;5;241m=\u001b[39m\u001b[38;5;124m'\u001b[39m\u001b[38;5;124mblue\u001b[39m\u001b[38;5;124m'\u001b[39m)\n\u001b[1;32m      3\u001b[0m plt\u001b[38;5;241m.\u001b[39mplot(critic_losses_epoch, label\u001b[38;5;241m=\u001b[39m\u001b[38;5;124m'\u001b[39m\u001b[38;5;124mCritic Loss\u001b[39m\u001b[38;5;124m'\u001b[39m, color\u001b[38;5;241m=\u001b[39m\u001b[38;5;124m'\u001b[39m\u001b[38;5;124mred\u001b[39m\u001b[38;5;124m'\u001b[39m)\n\u001b[1;32m      4\u001b[0m plt\u001b[38;5;241m.\u001b[39mxlabel(\u001b[38;5;124m'\u001b[39m\u001b[38;5;124mEpoch\u001b[39m\u001b[38;5;124m'\u001b[39m)\n",
      "\u001b[0;31mNameError\u001b[0m: name 'generator_losses_epoch' is not defined"
     ]
    },
    {
     "data": {
      "text/plain": [
       "<Figure size 1000x500 with 0 Axes>"
      ]
     },
     "metadata": {},
     "output_type": "display_data"
    }
   ],
   "source": [
    "plt.figure(figsize=(10, 5))\n",
    "plt.plot(generator_losses_epoch, label='Generator Loss', color='blue')\n",
    "plt.plot(critic_losses_epoch, label='Critic Loss', color='red')\n",
    "plt.xlabel('Epoch')\n",
    "plt.ylabel('Loss')\n",
    "plt.title('Generator and Critic Losses')\n",
    "plt.legend()\n",
    "plt.grid(True)\n",
    "plt.show()"
   ]
  },
  {
   "cell_type": "code",
   "execution_count": null,
   "metadata": {},
   "outputs": [],
   "source": []
  }
 ],
 "metadata": {
  "kernelspec": {
   "display_name": "osteoenv",
   "language": "python",
   "name": "python3"
  },
  "language_info": {
   "codemirror_mode": {
    "name": "ipython",
    "version": 3
   },
   "file_extension": ".py",
   "mimetype": "text/x-python",
   "name": "python",
   "nbconvert_exporter": "python",
   "pygments_lexer": "ipython3",
   "version": "3.11.3"
  }
 },
 "nbformat": 4,
 "nbformat_minor": 2
}
