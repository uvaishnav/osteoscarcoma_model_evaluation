{
 "cells": [
  {
   "cell_type": "code",
   "execution_count": 1,
   "metadata": {},
   "outputs": [],
   "source": [
    "import os"
   ]
  },
  {
   "cell_type": "markdown",
   "metadata": {},
   "source": [
    "Loading Data"
   ]
  },
  {
   "cell_type": "code",
   "execution_count": 9,
   "metadata": {},
   "outputs": [
    {
     "name": "stdout",
     "output_type": "stream",
     "text": [
      "['Viable', 'Non-Tumor', 'Non-Viable-Tumor']\n"
     ]
    }
   ],
   "source": [
    "root_dir = root_dir = \"../Osteosarcoma-UT_data\"\n",
    "\n",
    "classes = os.listdir(root_dir)\n",
    "print(classes)"
   ]
  },
  {
   "cell_type": "markdown",
   "metadata": {},
   "source": [
    "Understanding Dataset type"
   ]
  },
  {
   "cell_type": "code",
   "execution_count": 10,
   "metadata": {},
   "outputs": [
    {
     "name": "stdout",
     "output_type": "stream",
     "text": [
      "Viable contains 295 images\n",
      "Non-Tumor contains 533 images\n",
      "Non-Viable-Tumor contains 316 images\n"
     ]
    }
   ],
   "source": [
    "for i in classes:\n",
    "    clas_path = os.path.join(root_dir,i)\n",
    "    print(\"{} contains {} images\".format(i,len(os.listdir(clas_path))))"
   ]
  },
  {
   "cell_type": "markdown",
   "metadata": {},
   "source": [
    "Inference : This shows that the dataset is imbalenced having more number of images belonging to Non-Tumor class"
   ]
  },
  {
   "cell_type": "markdown",
   "metadata": {},
   "source": [
    "Spliting Images into train, validation, test "
   ]
  },
  {
   "cell_type": "code",
   "execution_count": 11,
   "metadata": {},
   "outputs": [],
   "source": [
    "train_ratio = 0.7\n",
    "val_ratio = 0.15\n",
    "test_ratio = 0.15"
   ]
  },
  {
   "cell_type": "code",
   "execution_count": 12,
   "metadata": {},
   "outputs": [],
   "source": [
    "import random"
   ]
  },
  {
   "cell_type": "code",
   "execution_count": 18,
   "metadata": {},
   "outputs": [
    {
     "name": "stdout",
     "output_type": "stream",
     "text": [
      "There are 295 images belong to Viable class \n",
      "206 images will be splitted to training\n",
      "88 images will be splitted to validation and test\n",
      "For class `Viable` there are 206 train images, 44 validation images, 45 test images\n",
      "-----------------------\n",
      "There are 533 images belong to Non-Tumor class \n",
      "373 images will be splitted to training\n",
      "159 images will be splitted to validation and test\n",
      "For class `Non-Tumor` there are 373 train images, 79 validation images, 81 test images\n",
      "-----------------------\n",
      "There are 316 images belong to Non-Viable-Tumor class \n",
      "221 images will be splitted to training\n",
      "94 images will be splitted to validation and test\n",
      "For class `Non-Viable-Tumor` there are 221 train images, 47 validation images, 48 test images\n",
      "-----------------------\n"
     ]
    }
   ],
   "source": [
    "for class_name in classes:\n",
    "    class_dir = os.path.join(root_dir, class_name)\n",
    "    images = os.listdir(class_dir)\n",
    "\n",
    "    random.shuffle(images)  ## images are shuffled randomly \n",
    "\n",
    "    num_images = len(images)\n",
    "    print(\"There are {} images belong to {} class \".format(num_images,class_name))\n",
    "    train_split = int(num_images * train_ratio)\n",
    "    print(\"{} images will be splitted to training\".format(train_split))\n",
    "    val_split = int(num_images * (test_ratio + val_ratio))\n",
    "    print(\"{} images will be splitted to validation and test\".format(val_split))\n",
    "\n",
    "\n",
    "    # Assign images to train, validation, and test sets\n",
    "\n",
    "    train_images = images[:train_split]\n",
    "    val_images = images[train_split:train_split+(val_split//2)]\n",
    "    test_images = images[train_split+(val_split//2):]\n",
    "\n",
    "    print(\"For class `{}` there are {} train images, {} validation images, {} test images\".format(class_name,len(train_images),len(val_images),len(test_images)))\n",
    "\n",
    "    print(\"-----------------------\")\n",
    "\n",
    "    ## move each image to respective folder\n",
    "\n"
   ]
  },
  {
   "cell_type": "code",
   "execution_count": null,
   "metadata": {},
   "outputs": [],
   "source": []
  }
 ],
 "metadata": {
  "kernelspec": {
   "display_name": "Python 3",
   "language": "python",
   "name": "python3"
  },
  "language_info": {
   "codemirror_mode": {
    "name": "ipython",
    "version": 3
   },
   "file_extension": ".py",
   "mimetype": "text/x-python",
   "name": "python",
   "nbconvert_exporter": "python",
   "pygments_lexer": "ipython3",
   "version": "3.11.3"
  }
 },
 "nbformat": 4,
 "nbformat_minor": 2
}
