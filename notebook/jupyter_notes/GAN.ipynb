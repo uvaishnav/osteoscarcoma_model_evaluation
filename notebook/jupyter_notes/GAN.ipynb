{
 "cells": [
  {
   "cell_type": "code",
   "execution_count": 4,
   "metadata": {},
   "outputs": [],
   "source": [
    "import tensorflow as tf\n",
    "import numpy as np"
   ]
  },
  {
   "cell_type": "code",
   "execution_count": 5,
   "metadata": {},
   "outputs": [],
   "source": [
    "from tensorflow.keras.preprocessing.image import ImageDataGenerator"
   ]
  },
  {
   "cell_type": "code",
   "execution_count": 6,
   "metadata": {},
   "outputs": [],
   "source": [
    "\n",
    "from tensorflow.keras import layers,models,optimizers"
   ]
  },
  {
   "cell_type": "markdown",
   "metadata": {},
   "source": [
    "Train Directory "
   ]
  },
  {
   "cell_type": "code",
   "execution_count": 7,
   "metadata": {},
   "outputs": [],
   "source": [
    "train_dir = '/Users/uvaishnav/osteoscarcoma_evaluation_project/artifacts/train'"
   ]
  },
  {
   "cell_type": "markdown",
   "metadata": {},
   "source": [
    "Defining fixed Variables"
   ]
  },
  {
   "cell_type": "code",
   "execution_count": 8,
   "metadata": {},
   "outputs": [],
   "source": [
    "img_height = 224\n",
    "img_width = 224\n",
    "batch_size = 32\n",
    "num_classes = 3\n",
    "latent_dim = 100"
   ]
  },
  {
   "cell_type": "markdown",
   "metadata": {},
   "source": [
    "Load Images"
   ]
  },
  {
   "cell_type": "code",
   "execution_count": 9,
   "metadata": {},
   "outputs": [
    {
     "name": "stdout",
     "output_type": "stream",
     "text": [
      "Found 800 images belonging to 3 classes.\n"
     ]
    }
   ],
   "source": [
    "datagen = ImageDataGenerator(\n",
    "    rescale = 1/255.0\n",
    ")\n",
    "\n",
    "train_generator = datagen.flow_from_directory(\n",
    "    train_dir,\n",
    "    target_size = (img_height,img_width),\n",
    "    batch_size = batch_size,\n",
    "    class_mode = 'categorical',\n",
    "    shuffle = True\n",
    ")"
   ]
  },
  {
   "cell_type": "markdown",
   "metadata": {},
   "source": [
    "Combining One-hot labels with noise and images"
   ]
  },
  {
   "cell_type": "code",
   "execution_count": 10,
   "metadata": {},
   "outputs": [],
   "source": [
    "def combine_noise_labels_gen(generator_input, labels_input):\n",
    "    return layers.concatenate([generator_input,labels_input])\n",
    "\n",
    "def combine_img_labels_critic(critic_input, labels_input,input_shape):\n",
    "    label_resized = layers.Reshape((1, 1, num_classes))(labels_input)                  # making label size consistent to image size\n",
    "    label_resized = tf.image.resize(label_resized, (input_shape[0], input_shape[1]))\n",
    "\n",
    "    return layers.Concatenate(axis=-1)([critic_input, label_resized])\n",
    "    "
   ]
  },
  {
   "cell_type": "markdown",
   "metadata": {},
   "source": [
    "Define Generator"
   ]
  },
  {
   "cell_type": "code",
   "execution_count": 11,
   "metadata": {},
   "outputs": [],
   "source": [
    "def build_generator(latent_dim=latent_dim,num_classes=num_classes):\n",
    "    generator_input = layers.Input(shape=(latent_dim,))\n",
    "    labels_input = layers.Input(shape=(num_classes,))\n",
    "    combined_input = combine_noise_labels_gen(generator_input, labels_input)\n",
    "\n",
    "    x = layers.Dense(7*7*512, use_bias=False)(combined_input)\n",
    "    x = layers.Reshape((7,7,512))(x)\n",
    "    x = layers.BatchNormalization()(x)\n",
    "    x = layers.LeakyReLU(0.2)(x)\n",
    "\n",
    "    x = layers.Conv2DTranspose(512, 5, strides=2, padding='same', use_bias=False)(x)\n",
    "    x = layers.BatchNormalization()(x)\n",
    "    x = layers.LeakyReLU(0.2)(x)\n",
    "\n",
    "    x = layers.Conv2DTranspose(256, 3, strides=2, padding='same', use_bias=False)(x)\n",
    "    x = layers.BatchNormalization()(x)\n",
    "    x = layers.LeakyReLU(0.2)(x)\n",
    "\n",
    "    x = layers.Conv2DTranspose(256, 3, strides=2, padding='same', use_bias=False)(x)\n",
    "    x = layers.BatchNormalization()(x)\n",
    "    x = layers.LeakyReLU(0.2)(x)\n",
    "\n",
    "    x = layers.Conv2DTranspose(64, 3, strides=2, padding='same', use_bias=False)(x)\n",
    "    x = layers.BatchNormalization()(x)\n",
    "    x = layers.LeakyReLU(0.2)(x)\n",
    "\n",
    "    x = layers.Conv2DTranspose(32, 4, strides=2, padding='same', use_bias=False)(x)\n",
    "    x = layers.BatchNormalization()(x)\n",
    "    x = layers.LeakyReLU(0.2)(x)\n",
    "\n",
    "    x = layers.Conv2DTranspose(3,7,padding='same',activation='tanh',use_bias=False)(x)\n",
    "\n",
    "\n",
    "\n",
    "    generator = models.Model([generator_input, labels_input],x)\n",
    "    return generator\n",
    "\n",
    "\n"
   ]
  },
  {
   "cell_type": "markdown",
   "metadata": {},
   "source": [
    "Gettig generator Summary (test)"
   ]
  },
  {
   "cell_type": "code",
   "execution_count": 12,
   "metadata": {},
   "outputs": [
    {
     "name": "stdout",
     "output_type": "stream",
     "text": [
      "Model: \"model\"\n",
      "__________________________________________________________________________________________________\n",
      " Layer (type)                Output Shape                 Param #   Connected to                  \n",
      "==================================================================================================\n",
      " input_1 (InputLayer)        [(None, 100)]                0         []                            \n",
      "                                                                                                  \n",
      " input_2 (InputLayer)        [(None, 3)]                  0         []                            \n",
      "                                                                                                  \n",
      " concatenate (Concatenate)   (None, 103)                  0         ['input_1[0][0]',             \n",
      "                                                                     'input_2[0][0]']             \n",
      "                                                                                                  \n",
      " dense (Dense)               (None, 25088)                2584064   ['concatenate[0][0]']         \n",
      "                                                                                                  \n",
      " reshape (Reshape)           (None, 7, 7, 512)            0         ['dense[0][0]']               \n",
      "                                                                                                  \n",
      " batch_normalization (Batch  (None, 7, 7, 512)            2048      ['reshape[0][0]']             \n",
      " Normalization)                                                                                   \n",
      "                                                                                                  \n",
      " leaky_re_lu (LeakyReLU)     (None, 7, 7, 512)            0         ['batch_normalization[0][0]'] \n",
      "                                                                                                  \n",
      " conv2d_transpose (Conv2DTr  (None, 14, 14, 512)          6553600   ['leaky_re_lu[0][0]']         \n",
      " anspose)                                                                                         \n",
      "                                                                                                  \n",
      " batch_normalization_1 (Bat  (None, 14, 14, 512)          2048      ['conv2d_transpose[0][0]']    \n",
      " chNormalization)                                                                                 \n",
      "                                                                                                  \n",
      " leaky_re_lu_1 (LeakyReLU)   (None, 14, 14, 512)          0         ['batch_normalization_1[0][0]'\n",
      "                                                                    ]                             \n",
      "                                                                                                  \n",
      " conv2d_transpose_1 (Conv2D  (None, 28, 28, 256)          1179648   ['leaky_re_lu_1[0][0]']       \n",
      " Transpose)                                                                                       \n",
      "                                                                                                  \n",
      " batch_normalization_2 (Bat  (None, 28, 28, 256)          1024      ['conv2d_transpose_1[0][0]']  \n",
      " chNormalization)                                                                                 \n",
      "                                                                                                  \n",
      " leaky_re_lu_2 (LeakyReLU)   (None, 28, 28, 256)          0         ['batch_normalization_2[0][0]'\n",
      "                                                                    ]                             \n",
      "                                                                                                  \n",
      " conv2d_transpose_2 (Conv2D  (None, 56, 56, 256)          589824    ['leaky_re_lu_2[0][0]']       \n",
      " Transpose)                                                                                       \n",
      "                                                                                                  \n",
      " batch_normalization_3 (Bat  (None, 56, 56, 256)          1024      ['conv2d_transpose_2[0][0]']  \n",
      " chNormalization)                                                                                 \n",
      "                                                                                                  \n",
      " leaky_re_lu_3 (LeakyReLU)   (None, 56, 56, 256)          0         ['batch_normalization_3[0][0]'\n",
      "                                                                    ]                             \n",
      "                                                                                                  \n",
      " conv2d_transpose_3 (Conv2D  (None, 112, 112, 64)         147456    ['leaky_re_lu_3[0][0]']       \n",
      " Transpose)                                                                                       \n",
      "                                                                                                  \n",
      " batch_normalization_4 (Bat  (None, 112, 112, 64)         256       ['conv2d_transpose_3[0][0]']  \n",
      " chNormalization)                                                                                 \n",
      "                                                                                                  \n",
      " leaky_re_lu_4 (LeakyReLU)   (None, 112, 112, 64)         0         ['batch_normalization_4[0][0]'\n",
      "                                                                    ]                             \n",
      "                                                                                                  \n",
      " conv2d_transpose_4 (Conv2D  (None, 224, 224, 32)         32768     ['leaky_re_lu_4[0][0]']       \n",
      " Transpose)                                                                                       \n",
      "                                                                                                  \n",
      " batch_normalization_5 (Bat  (None, 224, 224, 32)         128       ['conv2d_transpose_4[0][0]']  \n",
      " chNormalization)                                                                                 \n",
      "                                                                                                  \n",
      " leaky_re_lu_5 (LeakyReLU)   (None, 224, 224, 32)         0         ['batch_normalization_5[0][0]'\n",
      "                                                                    ]                             \n",
      "                                                                                                  \n",
      " conv2d_transpose_5 (Conv2D  (None, 224, 224, 3)          4704      ['leaky_re_lu_5[0][0]']       \n",
      " Transpose)                                                                                       \n",
      "                                                                                                  \n",
      "==================================================================================================\n",
      "Total params: 11098592 (42.34 MB)\n",
      "Trainable params: 11095328 (42.33 MB)\n",
      "Non-trainable params: 3264 (12.75 KB)\n",
      "__________________________________________________________________________________________________\n"
     ]
    }
   ],
   "source": [
    "test_gen = build_generator()\n",
    "test_gen.summary()"
   ]
  },
  {
   "cell_type": "markdown",
   "metadata": {},
   "source": [
    "Define Descriminator"
   ]
  },
  {
   "cell_type": "code",
   "execution_count": 13,
   "metadata": {},
   "outputs": [],
   "source": [
    "def build_critic(input_shape=(224,224,3),num_classes=num_classes):\n",
    "    critic_input = layers.Input(shape=input_shape)\n",
    "    labels_input = layers.Input(shape=(num_classes,))\n",
    "\n",
    "    combined_input = combine_img_labels_critic(critic_input, labels_input, input_shape)\n",
    "\n",
    "    x = layers.Conv2D(64,3,strides=2,padding='same')(combined_input)\n",
    "    x = layers.LeakyReLU(0.2)(x)\n",
    "    x = layers.Dropout(0.5)(x)\n",
    "\n",
    "    x = layers.Conv2D(128,3,strides=2,padding='same')(x)\n",
    "    x = layers.BatchNormalization()(x)\n",
    "    x = layers.LeakyReLU(0.2)(x)\n",
    "    x = layers.Dropout(0.5)(x)\n",
    "\n",
    "    x = layers.Conv2D(256,3,strides=2,padding='same')(x)\n",
    "    x = layers.BatchNormalization()(x)\n",
    "    x = layers.LeakyReLU(0.2)(x)\n",
    "    x = layers.Dropout(0.5)(x)\n",
    "\n",
    "    x = layers.Conv2D(512,3,strides=2,padding='same')(x)\n",
    "    x = layers.BatchNormalization()(x)\n",
    "    x = layers.LeakyReLU(0.2)(x)\n",
    "    x = layers.Dropout(0.5)(x)\n",
    "\n",
    "    x = layers.Conv2D(512,3,strides=2,padding='same')(x)\n",
    "    x = layers.BatchNormalization()(x)\n",
    "    x = layers.LeakyReLU(0.2)(x)\n",
    "    x = layers.Dropout(0.5)(x)\n",
    "\n",
    "    x = layers.Flatten()(x)\n",
    "\n",
    "    x = layers.Dense(120,activation='relu')(x)\n",
    "    x = layers.Dense(84,activation='relu')(x)\n",
    "    x = layers.Dropout(0.2)(x)\n",
    "    x = layers.Dense(1)(x)\n",
    "\n",
    "    critic = models.Model([critic_input, labels_input], x)\n",
    "\n",
    "    return critic\n",
    "    "
   ]
  },
  {
   "cell_type": "markdown",
   "metadata": {},
   "source": [
    "Getting discriminator Summary (Test)"
   ]
  },
  {
   "cell_type": "code",
   "execution_count": 14,
   "metadata": {},
   "outputs": [
    {
     "name": "stdout",
     "output_type": "stream",
     "text": [
      "Model: \"model_1\"\n",
      "__________________________________________________________________________________________________\n",
      " Layer (type)                Output Shape                 Param #   Connected to                  \n",
      "==================================================================================================\n",
      " input_4 (InputLayer)        [(None, 3)]                  0         []                            \n",
      "                                                                                                  \n",
      " reshape_1 (Reshape)         (None, 1, 1, 3)              0         ['input_4[0][0]']             \n",
      "                                                                                                  \n",
      " input_3 (InputLayer)        [(None, 224, 224, 3)]        0         []                            \n",
      "                                                                                                  \n",
      " tf.image.resize (TFOpLambd  (None, 224, 224, 3)          0         ['reshape_1[0][0]']           \n",
      " a)                                                                                               \n",
      "                                                                                                  \n",
      " concatenate_1 (Concatenate  (None, 224, 224, 6)          0         ['input_3[0][0]',             \n",
      " )                                                                   'tf.image.resize[0][0]']     \n",
      "                                                                                                  \n",
      " conv2d (Conv2D)             (None, 112, 112, 64)         3520      ['concatenate_1[0][0]']       \n",
      "                                                                                                  \n",
      " leaky_re_lu_6 (LeakyReLU)   (None, 112, 112, 64)         0         ['conv2d[0][0]']              \n",
      "                                                                                                  \n",
      " dropout (Dropout)           (None, 112, 112, 64)         0         ['leaky_re_lu_6[0][0]']       \n",
      "                                                                                                  \n",
      " conv2d_1 (Conv2D)           (None, 56, 56, 128)          73856     ['dropout[0][0]']             \n",
      "                                                                                                  \n",
      " batch_normalization_6 (Bat  (None, 56, 56, 128)          512       ['conv2d_1[0][0]']            \n",
      " chNormalization)                                                                                 \n",
      "                                                                                                  \n",
      " leaky_re_lu_7 (LeakyReLU)   (None, 56, 56, 128)          0         ['batch_normalization_6[0][0]'\n",
      "                                                                    ]                             \n",
      "                                                                                                  \n",
      " dropout_1 (Dropout)         (None, 56, 56, 128)          0         ['leaky_re_lu_7[0][0]']       \n",
      "                                                                                                  \n",
      " conv2d_2 (Conv2D)           (None, 28, 28, 256)          295168    ['dropout_1[0][0]']           \n",
      "                                                                                                  \n",
      " batch_normalization_7 (Bat  (None, 28, 28, 256)          1024      ['conv2d_2[0][0]']            \n",
      " chNormalization)                                                                                 \n",
      "                                                                                                  \n",
      " leaky_re_lu_8 (LeakyReLU)   (None, 28, 28, 256)          0         ['batch_normalization_7[0][0]'\n",
      "                                                                    ]                             \n",
      "                                                                                                  \n",
      " dropout_2 (Dropout)         (None, 28, 28, 256)          0         ['leaky_re_lu_8[0][0]']       \n",
      "                                                                                                  \n",
      " conv2d_3 (Conv2D)           (None, 14, 14, 512)          1180160   ['dropout_2[0][0]']           \n",
      "                                                                                                  \n",
      " batch_normalization_8 (Bat  (None, 14, 14, 512)          2048      ['conv2d_3[0][0]']            \n",
      " chNormalization)                                                                                 \n",
      "                                                                                                  \n",
      " leaky_re_lu_9 (LeakyReLU)   (None, 14, 14, 512)          0         ['batch_normalization_8[0][0]'\n",
      "                                                                    ]                             \n",
      "                                                                                                  \n",
      " dropout_3 (Dropout)         (None, 14, 14, 512)          0         ['leaky_re_lu_9[0][0]']       \n",
      "                                                                                                  \n",
      " conv2d_4 (Conv2D)           (None, 7, 7, 512)            2359808   ['dropout_3[0][0]']           \n",
      "                                                                                                  \n",
      " batch_normalization_9 (Bat  (None, 7, 7, 512)            2048      ['conv2d_4[0][0]']            \n",
      " chNormalization)                                                                                 \n",
      "                                                                                                  \n",
      " leaky_re_lu_10 (LeakyReLU)  (None, 7, 7, 512)            0         ['batch_normalization_9[0][0]'\n",
      "                                                                    ]                             \n",
      "                                                                                                  \n",
      " dropout_4 (Dropout)         (None, 7, 7, 512)            0         ['leaky_re_lu_10[0][0]']      \n",
      "                                                                                                  \n",
      " flatten (Flatten)           (None, 25088)                0         ['dropout_4[0][0]']           \n",
      "                                                                                                  \n",
      " dense_1 (Dense)             (None, 120)                  3010680   ['flatten[0][0]']             \n",
      "                                                                                                  \n",
      " dense_2 (Dense)             (None, 84)                   10164     ['dense_1[0][0]']             \n",
      "                                                                                                  \n",
      " dropout_5 (Dropout)         (None, 84)                   0         ['dense_2[0][0]']             \n",
      "                                                                                                  \n",
      " dense_3 (Dense)             (None, 1)                    85        ['dropout_5[0][0]']           \n",
      "                                                                                                  \n",
      "==================================================================================================\n",
      "Total params: 6939073 (26.47 MB)\n",
      "Trainable params: 6936257 (26.46 MB)\n",
      "Non-trainable params: 2816 (11.00 KB)\n",
      "__________________________________________________________________________________________________\n"
     ]
    }
   ],
   "source": [
    "disc_test = build_critic()\n",
    "disc_test.summary()"
   ]
  },
  {
   "cell_type": "markdown",
   "metadata": {},
   "source": [
    "To display Images to check Generator Performance"
   ]
  },
  {
   "cell_type": "code",
   "execution_count": 15,
   "metadata": {},
   "outputs": [],
   "source": [
    "import matplotlib.pyplot as plt"
   ]
  },
  {
   "cell_type": "code",
   "execution_count": 25,
   "metadata": {},
   "outputs": [
    {
     "name": "stdout",
     "output_type": "stream",
     "text": [
      "dict_keys(['Non-Tumor', 'Non-Viable-Tumor', 'Viable'])\n"
     ]
    }
   ],
   "source": [
    "class_names = train_generator.class_indices.keys()\n",
    "print(class_names)"
   ]
  },
  {
   "cell_type": "code",
   "execution_count": 26,
   "metadata": {},
   "outputs": [],
   "source": [
    "# for label,class_name in enumerate(class_names):\n",
    "#     print(label, class_name)\n",
    "#     lable_one_hot = tf.one_hot([label],num_classes)\n",
    "#     print(lable_one_hot)"
   ]
  },
  {
   "cell_type": "code",
   "execution_count": null,
   "metadata": {},
   "outputs": [],
   "source": [
    "def generate_and_display_images(generator, epoch, latent_dim = latent_dim,class_names=class_names):\n",
    "    plt.figure(figsize=(10,10))\n",
    "    for class_label, class_name in enumerate(class_names):\n",
    "\n",
    "        # Create a one-hot encoded label for the current class\n",
    "        label = tf.one_hot([class_label],num_classes)\n",
    "\n",
    "        # Generate a fake image using random noise and the one-hot encoded label\n",
    "        noise = tf.random.normal(shape=(1,latent_dim))\n",
    "        generate_image = generator([noise,label],training=False)\n",
    "\n",
    "        # Plot the generated image\n",
    "        plt.subplot(1, num_classes, class_label+1)\n",
    "        # Generated image pixels will be in range[-1,1] but imshow in matplotlib expects them between[0,1] so,\n",
    "        plt.imshow((generate_image[0] * 0.5 + 0.5).numpy())\n",
    "        plt.title(class_name)\n",
    "        plt.axis(\"off\")\n",
    "    \n",
    "    plt.subtitle(\"Generated Images at Epoch {}\".format(epoch))\n",
    "    plt.show()\n",
    "        "
   ]
  },
  {
   "cell_type": "markdown",
   "metadata": {},
   "source": [
    "Train Variables"
   ]
  },
  {
   "cell_type": "code",
   "execution_count": null,
   "metadata": {},
   "outputs": [],
   "source": [
    "c_lambda = 10\n",
    "num_epochs = 20\n",
    "learning_rate = 0.00002\n",
    "critic_train_steps = 5"
   ]
  },
  {
   "cell_type": "markdown",
   "metadata": {},
   "source": [
    "Wasserstein Losses"
   ]
  },
  {
   "cell_type": "code",
   "execution_count": null,
   "metadata": {},
   "outputs": [],
   "source": [
    "def compute_generator_loss(critic_fake_score):\n",
    "    # critic_fake_score : the critic's scores of the fake images\n",
    "    gen_loss = -tf.reduce_mean(critic_fake_score)\n",
    "    return gen_loss\n",
    "\n",
    "def compute_critic_loss(critic_fake_score,critic_real_score,gradient_penality,c_lambda=c_lambda):\n",
    "    # critic_fake_score : the critic's scores of the fake images\n",
    "    # critic_real_score : the critic's scores of the real images\n",
    "    # gradient_penality : the unweighted gradient penalty\n",
    "    # c_lambda: the current weight of the gradient penalty (hyperparameter usually initialized to 10)\n",
    "\n",
    "    critic_loss = tf.reduce_mean(critic_fake_score) - tf.reduce_mean(critic_real_score) + c_lambda * gradient_penality\n",
    "    return critic_loss\n",
    "\n",
    "    "
   ]
  },
  {
   "cell_type": "markdown",
   "metadata": {},
   "source": [
    "Gradient penality"
   ]
  },
  {
   "cell_type": "markdown",
   "metadata": {},
   "source": [
    "1) Compute Gradient with respect to images\n",
    "2) Compute Gradient Penality given the gradient"
   ]
  },
  {
   "cell_type": "markdown",
   "metadata": {},
   "source": [
    "-  The gradient is computed by first creating a mixed image.\n",
    "-  This is done by Weighing fake and real images using a parameter (epsilon) and adding them together, we will get an intermediate mixed image\n",
    "-  Get the critics output on the mixed image (crictic score)\n",
    "-  Compute the gradient of critic's score on mixed images."
   ]
  },
  {
   "cell_type": "code",
   "execution_count": null,
   "metadata": {},
   "outputs": [],
   "source": [
    "def get_gradient(critic, real, fake, labels_one_hot, epsilon):\n",
    "    # critic : The critic model\n",
    "    # real : batch of real images\n",
    "    # fake : batch of fake images\n",
    "    # epsilon : a vector of the uniformly random proportions of real/fake per mixed image\n",
    "\n",
    "    with tf.GradientTape() as tape:\n",
    "        mixed_images = (real * epsilon) + (fake * (1 - epsilon))\n",
    "        tape.watch(mixed_images)\n",
    "        mixed_score = critic([mixed_images, labels_one_hot])\n",
    "        # print(mixed_score)\n",
    "        \n",
    "    gradient_mixed = tape.gradient(mixed_score, mixed_images)\n",
    "    # print(gradient_mixed)\n",
    "    return gradient_mixed"
   ]
  },
  {
   "cell_type": "code",
   "execution_count": null,
   "metadata": {},
   "outputs": [],
   "source": [
    "def compute_gradient_penalty(gradient):\n",
    "    # gradient : gradient of the critic score with respect to mixed images\n",
    "\n",
    "    gradient = tf.reshape(gradient,(tf.shape(gradient)[0],-1))\n",
    "    gradient_norm = tf.norm(gradient,ord=2,axis=1)\n",
    "\n",
    "    penalty = tf.reduce_mean((gradient_norm - 1)**2)\n",
    "\n",
    "    return penalty"
   ]
  },
  {
   "cell_type": "markdown",
   "metadata": {},
   "source": [
    "Define Optimizer"
   ]
  },
  {
   "cell_type": "code",
   "execution_count": null,
   "metadata": {},
   "outputs": [],
   "source": [
    "optimizer = tf.keras.optimizers.legacy.Adam(learning_rate=learning_rate)"
   ]
  },
  {
   "cell_type": "code",
   "execution_count": null,
   "metadata": {},
   "outputs": [],
   "source": [
    "# count=0\n",
    "# for i in range(50):\n",
    "#     count = count+1\n",
    "#     real_batch_imgs,labels = train_generator.next()\n",
    "#     for img in real_batch_imgs:\n",
    "#         print(img.shape)\n",
    "\n",
    "# print(count)"
   ]
  },
  {
   "cell_type": "code",
   "execution_count": null,
   "metadata": {},
   "outputs": [],
   "source": [
    "# imgs,real_labels_batch = train_generator.next()\n",
    "# real_labels_onehot = tf.one_hot(tf.argmax(real_labels_batch, axis=1), num_classes)"
   ]
  },
  {
   "cell_type": "code",
   "execution_count": null,
   "metadata": {},
   "outputs": [],
   "source": [
    "generator = build_generator()\n",
    "critic = build_critic()"
   ]
  },
  {
   "cell_type": "code",
   "execution_count": null,
   "metadata": {},
   "outputs": [],
   "source": [
    "# noise = tf.random.normal((batch_size,latent_dim))\n",
    "# imgs = generator([noise, real_labels_onehot])\n",
    "# import cv2\n",
    "# print(imgs.shape)"
   ]
  },
  {
   "cell_type": "markdown",
   "metadata": {},
   "source": [
    "Training"
   ]
  },
  {
   "cell_type": "code",
   "execution_count": 27,
   "metadata": {},
   "outputs": [],
   "source": [
    "current_step = 0\n",
    "display_step = 12\n",
    "generator_losses = []\n",
    "critic_losses = []\n",
    "\n",
    "for epoch in range(num_epochs):\n",
    "    for batch in range(len(train_generator)):\n",
    "        real_images_batch, labels = train_generator.next()\n",
    "        one_hot_labels = tf.one_hot(tf.argmax(labels, axis=1), num_classes)\n",
    "\n",
    "        mean_iter_critic_loss = 0\n",
    "        for step in range(critic_train_steps):\n",
    "            ## Upadate Critic \n",
    "            with tf.GradientTape() as critic_tape:\n",
    "                fake_noise = tf.random.normal(shape=(batch_size,latent_dim))\n",
    "                generated_images = generator([fake_noise, one_hot_labels])\n",
    "\n",
    "                critic_fake_predictions = critic([generated_images, one_hot_labels],training=True)\n",
    "                critic_real_predictions = critic([real_images_batch, one_hot_labels],training=True)\n",
    "\n",
    "                epsilon = tf.random.uniform((batch_size,1,1,1))\n",
    "                gradient_mix = get_gradient(critic=critic, real=real_images_batch, fake=generated_images, labels_one_hot=one_hot_labels, epsilon=epsilon)\n",
    "                gradient_penalty = compute_gradient_penalty(gradient_mix)\n",
    "                critic_loss = compute_critic_loss(critic_fake_score=critic_fake_predictions, critic_real_score=critic_real_predictions,gradient_penality=gradient_penalty,c_lambda=c_lambda)\n",
    "            \n",
    "            # Keep track of the average critic loss in this batch\n",
    "            mean_iter_critic_loss += critic_loss / critic_train_steps\n",
    "\n",
    "            # Update gradients\n",
    "            critic_gradients = critic_tape.gradient(critic_loss, critic.trainable_variables)\n",
    "            optimizer.apply_gradients(zip(critic_gradients, critic.trainable_variables))\n",
    "        \n",
    "        critic_losses.append(mean_iter_critic_loss.numpy())\n",
    "\n",
    "        # Update Generator\n",
    "        with tf.GradientTape() as generator_tape:\n",
    "            fake_noise_2 = tf.random.normal(shape=(batch_size,latent_dim))\n",
    "            generated_images_2 = generator([fake_noise_2, one_hot_labels],training=True)\n",
    "            critic_fake_predictions_2 = critic([generated_images_2, one_hot_labels],training=True)\n",
    "            generator_loss = compute_generator_loss(critic_fake_score=critic_fake_predictions_2)\n",
    "        \n",
    "        # Update Weights\n",
    "        generator_gradients = generator_tape.gradient(generator_loss, generator.trainable_variables)\n",
    "        optimizer.apply_gradients(zip(generator_gradients, generator.trainable_variables))\n",
    "\n",
    "        generator_losses.append(generator_loss.numpy())\n",
    "\n",
    "        if current_step % display_step == 0 and current_step > 0:\n",
    "            gen_mean = sum(generator_losses[-display_step:]) / display_step\n",
    "            crit_mean = sum(critic_losses[-display_step:]) / display_step\n",
    "            print(f\"Epoch {epoch}, step {current_step}: Generator loss: {gen_mean}, critic loss: {crit_mean}\")\n",
    "    \n",
    "        current_step += 1\n",
    "    \n",
    "    if((epoch + 1) % 10 == 0):\n",
    "        generate_and_display_images(generator=generator,epoch=epoch)\n",
    "\n",
    "\n",
    "\n",
    "\n",
    "        \n",
    "\n",
    "\n",
    "        \n",
    "        "
   ]
  },
  {
   "cell_type": "code",
   "execution_count": null,
   "metadata": {},
   "outputs": [],
   "source": []
  }
 ],
 "metadata": {
  "kernelspec": {
   "display_name": "osteoenv",
   "language": "python",
   "name": "python3"
  },
  "language_info": {
   "codemirror_mode": {
    "name": "ipython",
    "version": 3
   },
   "file_extension": ".py",
   "mimetype": "text/x-python",
   "name": "python",
   "nbconvert_exporter": "python",
   "pygments_lexer": "ipython3",
   "version": "3.11.3"
  }
 },
 "nbformat": 4,
 "nbformat_minor": 2
}
