{
 "cells": [
  {
   "cell_type": "code",
   "execution_count": 1,
   "metadata": {},
   "outputs": [],
   "source": [
    "import tensorflow as tf"
   ]
  },
  {
   "cell_type": "code",
   "execution_count": 3,
   "metadata": {},
   "outputs": [],
   "source": [
    "from tensorflow.keras.preprocessing.image import ImageDataGenerator"
   ]
  },
  {
   "cell_type": "code",
   "execution_count": 7,
   "metadata": {},
   "outputs": [],
   "source": [
    "import numpy as np\n",
    "from tensorflow.keras import layers,models"
   ]
  },
  {
   "cell_type": "markdown",
   "metadata": {},
   "source": [
    "Train Directory "
   ]
  },
  {
   "cell_type": "code",
   "execution_count": 2,
   "metadata": {},
   "outputs": [],
   "source": [
    "train_dir = '/Users/uvaishnav/osteoscarcoma_evaluation_project/artifacts/train'"
   ]
  },
  {
   "cell_type": "markdown",
   "metadata": {},
   "source": [
    "Defining fixed Variables"
   ]
  },
  {
   "cell_type": "code",
   "execution_count": 11,
   "metadata": {},
   "outputs": [],
   "source": [
    "img_height = 224\n",
    "img_width = 224\n",
    "batch_size = 32\n",
    "num_classes =3"
   ]
  },
  {
   "cell_type": "markdown",
   "metadata": {},
   "source": [
    "Load Images"
   ]
  },
  {
   "cell_type": "code",
   "execution_count": 6,
   "metadata": {},
   "outputs": [
    {
     "name": "stdout",
     "output_type": "stream",
     "text": [
      "Found 800 images belonging to 3 classes.\n"
     ]
    }
   ],
   "source": [
    "datagen = ImageDataGenerator(\n",
    "    rescale = 1/255.0\n",
    ")\n",
    "\n",
    "train_generator = datagen.flow_from_directory(\n",
    "    train_dir,\n",
    "    target_size = (img_height,img_width),\n",
    "    batch_size = batch_size,\n",
    "    class_mode = 'categorical',\n",
    "    shuffle = True\n",
    ")"
   ]
  },
  {
   "cell_type": "markdown",
   "metadata": {},
   "source": [
    "Adaptive Normalization"
   ]
  },
  {
   "cell_type": "markdown",
   "metadata": {},
   "source": [
    "Instead of using BatchNormalization, which normalizes each feature map based on the statistics computed over the entire batch, it is prefered to to use adaptive normalization technique similar to SPADE. \n",
    "his allows adaptive Normalization based on class labels.(meaning it can adapt normalization parameters based on the semantic content of the input)"
   ]
  },
  {
   "cell_type": "code",
   "execution_count": 14,
   "metadata": {},
   "outputs": [],
   "source": [
    "class SPADE(layers.Layer):\n",
    "    def __init__(self):                  ## This defines a custom Keras layer named SPADE. It inherits from the layers.Layer class, which is the base class for all Keras layers. \n",
    "        super(SPADE,self).__init__()\n",
    "    \n",
    "    def build(self,input_shape):\n",
    "        input_shape = input_shape[0].as_list()\n",
    "        print(input_shape)\n",
    "        self.gama_fc = layers.Dense(input_shape[-1],use_bias=False)     # Scale Parameter\n",
    "        self.beta_fc = layers.Dense(input_shape[-1],use_bias=False)     # Shift Parameter\n",
    "\n",
    "    def call(self,inputs):\n",
    "        x, cls_info = inputs\n",
    "        gama = self.gama_fc(cls_info)\n",
    "        beta = self.beta_fc(cls_info)\n",
    "\n",
    "        return gama[:,None,None] * x + beta[:,None,None]"
   ]
  },
  {
   "cell_type": "markdown",
   "metadata": {},
   "source": [
    "Define Generator"
   ]
  },
  {
   "cell_type": "code",
   "execution_count": 23,
   "metadata": {},
   "outputs": [],
   "source": [
    "def build_generator(latent_dim=100,num_classes=num_classes):\n",
    "    generator_input = layers.Input(shape=(latent_dim,))\n",
    "    labels_input = layers.Input(shape=(num_classes,))\n",
    "    combined_input = layers.concatenate([generator_input,labels_input])\n",
    "\n",
    "    x = layers.Dense(7*7*512, use_bias=False)(combined_input)\n",
    "    x = layers.Reshape((7,7,512))(x)\n",
    "    x = SPADE()([x,labels_input])\n",
    "    x = layers.LeakyReLU(0.2)(x)\n",
    "\n",
    "    x = layers.Conv2DTranspose(512, 5, strides=2, padding='same', use_bias=False)(x)\n",
    "    x = SPADE()([x,labels_input])\n",
    "    x = layers.LeakyReLU(0.2)(x)\n",
    "\n",
    "    x = layers.Conv2DTranspose(256, 3, strides=2, padding='same', use_bias=False)(x)\n",
    "    x = SPADE()([x,labels_input])\n",
    "    x = layers.LeakyReLU(0.2)(x)\n",
    "\n",
    "    x = layers.Conv2DTranspose(256, 3, strides=2, padding='same', use_bias=False)(x)\n",
    "    x = SPADE()([x,labels_input])\n",
    "    x = layers.LeakyReLU(0.2)(x)\n",
    "\n",
    "    x = layers.Conv2DTranspose(64, 3, strides=2, padding='same', use_bias=False)(x)\n",
    "    x = SPADE()([x,labels_input])\n",
    "    x = layers.LeakyReLU(0.2)(x)\n",
    "\n",
    "    x = layers.Conv2DTranspose(32, 4, strides=2, padding='same', use_bias=False)(x)\n",
    "    x = SPADE()([x,labels_input])\n",
    "    x = layers.LeakyReLU(0.2)(x)\n",
    "\n",
    "    x = layers.Conv2DTranspose(3,7,padding='same',activation='tanh',use_bias=False)(x)\n",
    "\n",
    "\n",
    "\n",
    "    generator = models.Model([generator_input, labels_input],x)\n",
    "    return generator\n",
    "\n",
    "\n"
   ]
  },
  {
   "cell_type": "markdown",
   "metadata": {},
   "source": [
    "Gettig generator Summary (test)"
   ]
  },
  {
   "cell_type": "code",
   "execution_count": 24,
   "metadata": {},
   "outputs": [
    {
     "name": "stdout",
     "output_type": "stream",
     "text": [
      "Model: \"model_2\"\n",
      "__________________________________________________________________________________________________\n",
      " Layer (type)                Output Shape                 Param #   Connected to                  \n",
      "==================================================================================================\n",
      " input_11 (InputLayer)       [(None, 100)]                0         []                            \n",
      "                                                                                                  \n",
      " input_12 (InputLayer)       [(None, 3)]                  0         []                            \n",
      "                                                                                                  \n",
      " concatenate_3 (Concatenate  (None, 103)                  0         ['input_11[0][0]',            \n",
      " )                                                                   'input_12[0][0]']            \n",
      "                                                                                                  \n",
      " dense_4 (Dense)             (None, 25088)                2584064   ['concatenate_3[0][0]']       \n",
      "                                                                                                  \n",
      " reshape_3 (Reshape)         (None, 7, 7, 512)            0         ['dense_4[0][0]']             \n",
      "                                                                                                  \n",
      " spade_7 (SPADE)             (None, 7, 7, 512)            3072      ['reshape_3[0][0]',           \n",
      "                                                                     'input_12[0][0]']            \n",
      "                                                                                                  \n",
      " leaky_re_lu_11 (LeakyReLU)  (None, 7, 7, 512)            0         ['spade_7[0][0]']             \n",
      "                                                                                                  \n",
      " conv2d_transpose_11 (Conv2  (None, 14, 14, 512)          6553600   ['leaky_re_lu_11[0][0]']      \n",
      " DTranspose)                                                                                      \n",
      "                                                                                                  \n",
      " spade_8 (SPADE)             (None, 14, 14, 512)          3072      ['conv2d_transpose_11[0][0]', \n",
      "                                                                     'input_12[0][0]']            \n",
      "                                                                                                  \n",
      " leaky_re_lu_12 (LeakyReLU)  (None, 14, 14, 512)          0         ['spade_8[0][0]']             \n",
      "                                                                                                  \n",
      " conv2d_transpose_12 (Conv2  (None, 28, 28, 256)          1179648   ['leaky_re_lu_12[0][0]']      \n",
      " DTranspose)                                                                                      \n",
      "                                                                                                  \n",
      " spade_9 (SPADE)             (None, 28, 28, 256)          1536      ['conv2d_transpose_12[0][0]', \n",
      "                                                                     'input_12[0][0]']            \n",
      "                                                                                                  \n",
      " leaky_re_lu_13 (LeakyReLU)  (None, 28, 28, 256)          0         ['spade_9[0][0]']             \n",
      "                                                                                                  \n",
      " conv2d_transpose_13 (Conv2  (None, 56, 56, 256)          589824    ['leaky_re_lu_13[0][0]']      \n",
      " DTranspose)                                                                                      \n",
      "                                                                                                  \n",
      " spade_10 (SPADE)            (None, 56, 56, 256)          1536      ['conv2d_transpose_13[0][0]', \n",
      "                                                                     'input_12[0][0]']            \n",
      "                                                                                                  \n",
      " leaky_re_lu_14 (LeakyReLU)  (None, 56, 56, 256)          0         ['spade_10[0][0]']            \n",
      "                                                                                                  \n",
      " conv2d_transpose_14 (Conv2  (None, 112, 112, 64)         147456    ['leaky_re_lu_14[0][0]']      \n",
      " DTranspose)                                                                                      \n",
      "                                                                                                  \n",
      " spade_11 (SPADE)            (None, 112, 112, 64)         384       ['conv2d_transpose_14[0][0]', \n",
      "                                                                     'input_12[0][0]']            \n",
      "                                                                                                  \n",
      " leaky_re_lu_15 (LeakyReLU)  (None, 112, 112, 64)         0         ['spade_11[0][0]']            \n",
      "                                                                                                  \n",
      " conv2d_transpose_15 (Conv2  (None, 224, 224, 32)         32768     ['leaky_re_lu_15[0][0]']      \n",
      " DTranspose)                                                                                      \n",
      "                                                                                                  \n",
      " spade_12 (SPADE)            (None, 224, 224, 32)         192       ['conv2d_transpose_15[0][0]', \n",
      "                                                                     'input_12[0][0]']            \n",
      "                                                                                                  \n",
      " leaky_re_lu_16 (LeakyReLU)  (None, 224, 224, 32)         0         ['spade_12[0][0]']            \n",
      "                                                                                                  \n",
      " conv2d_transpose_16 (Conv2  (None, 224, 224, 3)          4704      ['leaky_re_lu_16[0][0]']      \n",
      " DTranspose)                                                                                      \n",
      "                                                                                                  \n",
      "==================================================================================================\n",
      "Total params: 11101856 (42.35 MB)\n",
      "Trainable params: 11101856 (42.35 MB)\n",
      "Non-trainable params: 0 (0.00 Byte)\n",
      "__________________________________________________________________________________________________\n"
     ]
    }
   ],
   "source": [
    "test_gen = build_generator()\n",
    "test_gen.summary()"
   ]
  },
  {
   "cell_type": "code",
   "execution_count": null,
   "metadata": {},
   "outputs": [],
   "source": []
  }
 ],
 "metadata": {
  "kernelspec": {
   "display_name": "osteoenv",
   "language": "python",
   "name": "python3"
  },
  "language_info": {
   "codemirror_mode": {
    "name": "ipython",
    "version": 3
   },
   "file_extension": ".py",
   "mimetype": "text/x-python",
   "name": "python",
   "nbconvert_exporter": "python",
   "pygments_lexer": "ipython3",
   "version": "3.11.3"
  }
 },
 "nbformat": 4,
 "nbformat_minor": 2
}
