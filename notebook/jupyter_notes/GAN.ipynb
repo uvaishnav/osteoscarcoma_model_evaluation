{
 "cells": [
  {
   "cell_type": "code",
   "execution_count": 455,
   "metadata": {},
   "outputs": [],
   "source": [
    "import tensorflow as tf\n",
    "import numpy as np"
   ]
  },
  {
   "cell_type": "code",
   "execution_count": 456,
   "metadata": {},
   "outputs": [],
   "source": [
    "from tensorflow.keras.preprocessing.image import ImageDataGenerator"
   ]
  },
  {
   "cell_type": "code",
   "execution_count": 457,
   "metadata": {},
   "outputs": [],
   "source": [
    "import numpy as np\n",
    "from tensorflow.keras import layers,models,optimizers"
   ]
  },
  {
   "cell_type": "markdown",
   "metadata": {},
   "source": [
    "Train Directory "
   ]
  },
  {
   "cell_type": "code",
   "execution_count": 458,
   "metadata": {},
   "outputs": [],
   "source": [
    "train_dir = '/Users/uvaishnav/osteoscarcoma_evaluation_project/artifacts/train'"
   ]
  },
  {
   "cell_type": "markdown",
   "metadata": {},
   "source": [
    "Defining fixed Variables"
   ]
  },
  {
   "cell_type": "code",
   "execution_count": 459,
   "metadata": {},
   "outputs": [],
   "source": [
    "img_height = 224\n",
    "img_width = 224\n",
    "batch_size = 32\n",
    "num_classes = 3\n",
    "latent_dim = 100"
   ]
  },
  {
   "cell_type": "markdown",
   "metadata": {},
   "source": [
    "Load Images"
   ]
  },
  {
   "cell_type": "code",
   "execution_count": 460,
   "metadata": {},
   "outputs": [
    {
     "name": "stdout",
     "output_type": "stream",
     "text": [
      "Found 800 images belonging to 3 classes.\n"
     ]
    }
   ],
   "source": [
    "datagen = ImageDataGenerator(\n",
    "    rescale = 1/255.0\n",
    ")\n",
    "\n",
    "train_generator = datagen.flow_from_directory(\n",
    "    train_dir,\n",
    "    target_size = (img_height,img_width),\n",
    "    batch_size = batch_size,\n",
    "    class_mode = 'categorical',\n",
    "    shuffle = True\n",
    ")"
   ]
  },
  {
   "cell_type": "markdown",
   "metadata": {},
   "source": [
    "Combining One-hot labels with noise and images"
   ]
  },
  {
   "cell_type": "code",
   "execution_count": 461,
   "metadata": {},
   "outputs": [],
   "source": [
    "def combine_noise_labels_gen(generator_input, labels_input):\n",
    "    return layers.concatenate([generator_input,labels_input])\n",
    "\n",
    "def combine_img_labels_critic(critic_input, labels_input,input_shape):\n",
    "    label_resized = layers.Reshape((1, 1, num_classes))(labels_input)                  # making label size consistent to image size\n",
    "    label_resized = tf.image.resize(label_resized, (input_shape[0], input_shape[1]))\n",
    "\n",
    "    return layers.Concatenate(axis=-1)([critic_input, label_resized])\n",
    "    "
   ]
  },
  {
   "cell_type": "markdown",
   "metadata": {},
   "source": [
    "Define Generator"
   ]
  },
  {
   "cell_type": "code",
   "execution_count": 462,
   "metadata": {},
   "outputs": [],
   "source": [
    "def build_generator(latent_dim=latent_dim,num_classes=num_classes):\n",
    "    generator_input = layers.Input(shape=(latent_dim,))\n",
    "    labels_input = layers.Input(shape=(num_classes,))\n",
    "    combined_input = combine_noise_labels_gen(generator_input, labels_input)\n",
    "\n",
    "    x = layers.Dense(7*7*512, use_bias=False)(combined_input)\n",
    "    x = layers.Reshape((7,7,512))(x)\n",
    "    x = layers.BatchNormalization()(x)\n",
    "    x = layers.LeakyReLU(0.2)(x)\n",
    "\n",
    "    x = layers.Conv2DTranspose(512, 5, strides=2, padding='same', use_bias=False)(x)\n",
    "    x = layers.BatchNormalization()(x)\n",
    "    x = layers.LeakyReLU(0.2)(x)\n",
    "\n",
    "    x = layers.Conv2DTranspose(256, 3, strides=2, padding='same', use_bias=False)(x)\n",
    "    x = layers.BatchNormalization()(x)\n",
    "    x = layers.LeakyReLU(0.2)(x)\n",
    "\n",
    "    x = layers.Conv2DTranspose(256, 3, strides=2, padding='same', use_bias=False)(x)\n",
    "    x = layers.BatchNormalization()(x)\n",
    "    x = layers.LeakyReLU(0.2)(x)\n",
    "\n",
    "    x = layers.Conv2DTranspose(64, 3, strides=2, padding='same', use_bias=False)(x)\n",
    "    x = layers.BatchNormalization()(x)\n",
    "    x = layers.LeakyReLU(0.2)(x)\n",
    "\n",
    "    x = layers.Conv2DTranspose(32, 4, strides=2, padding='same', use_bias=False)(x)\n",
    "    x = layers.BatchNormalization()(x)\n",
    "    x = layers.LeakyReLU(0.2)(x)\n",
    "\n",
    "    x = layers.Conv2DTranspose(3,7,padding='same',activation='tanh',use_bias=False)(x)\n",
    "\n",
    "\n",
    "\n",
    "    generator = models.Model([generator_input, labels_input],x)\n",
    "    return generator\n",
    "\n",
    "\n"
   ]
  },
  {
   "cell_type": "markdown",
   "metadata": {},
   "source": [
    "Gettig generator Summary (test)"
   ]
  },
  {
   "cell_type": "code",
   "execution_count": 463,
   "metadata": {},
   "outputs": [
    {
     "name": "stdout",
     "output_type": "stream",
     "text": [
      "Model: \"model_79\"\n",
      "__________________________________________________________________________________________________\n",
      " Layer (type)                Output Shape                 Param #   Connected to                  \n",
      "==================================================================================================\n",
      " input_169 (InputLayer)      [(None, 100)]                0         []                            \n",
      "                                                                                                  \n",
      " input_170 (InputLayer)      [(None, 3)]                  0         []                            \n",
      "                                                                                                  \n",
      " concatenate_83 (Concatenat  (None, 103)                  0         ['input_169[0][0]',           \n",
      " e)                                                                  'input_170[0][0]']           \n",
      "                                                                                                  \n",
      " dense_151 (Dense)           (None, 25088)                2584064   ['concatenate_83[0][0]']      \n",
      "                                                                                                  \n",
      " reshape_83 (Reshape)        (None, 7, 7, 512)            0         ['dense_151[0][0]']           \n",
      "                                                                                                  \n",
      " batch_normalization_350 (B  (None, 7, 7, 512)            2048      ['reshape_83[0][0]']          \n",
      " atchNormalization)                                                                               \n",
      "                                                                                                  \n",
      " leaky_re_lu_404 (LeakyReLU  (None, 7, 7, 512)            0         ['batch_normalization_350[0][0\n",
      " )                                                                  ]']                           \n",
      "                                                                                                  \n",
      " conv2d_transpose_222 (Conv  (None, 14, 14, 512)          6553600   ['leaky_re_lu_404[0][0]']     \n",
      " 2DTranspose)                                                                                     \n",
      "                                                                                                  \n",
      " batch_normalization_351 (B  (None, 14, 14, 512)          2048      ['conv2d_transpose_222[0][0]']\n",
      " atchNormalization)                                                                               \n",
      "                                                                                                  \n",
      " leaky_re_lu_405 (LeakyReLU  (None, 14, 14, 512)          0         ['batch_normalization_351[0][0\n",
      " )                                                                  ]']                           \n",
      "                                                                                                  \n",
      " conv2d_transpose_223 (Conv  (None, 28, 28, 256)          1179648   ['leaky_re_lu_405[0][0]']     \n",
      " 2DTranspose)                                                                                     \n",
      "                                                                                                  \n",
      " batch_normalization_352 (B  (None, 28, 28, 256)          1024      ['conv2d_transpose_223[0][0]']\n",
      " atchNormalization)                                                                               \n",
      "                                                                                                  \n",
      " leaky_re_lu_406 (LeakyReLU  (None, 28, 28, 256)          0         ['batch_normalization_352[0][0\n",
      " )                                                                  ]']                           \n",
      "                                                                                                  \n",
      " conv2d_transpose_224 (Conv  (None, 56, 56, 256)          589824    ['leaky_re_lu_406[0][0]']     \n",
      " 2DTranspose)                                                                                     \n",
      "                                                                                                  \n",
      " batch_normalization_353 (B  (None, 56, 56, 256)          1024      ['conv2d_transpose_224[0][0]']\n",
      " atchNormalization)                                                                               \n",
      "                                                                                                  \n",
      " leaky_re_lu_407 (LeakyReLU  (None, 56, 56, 256)          0         ['batch_normalization_353[0][0\n",
      " )                                                                  ]']                           \n",
      "                                                                                                  \n",
      " conv2d_transpose_225 (Conv  (None, 112, 112, 64)         147456    ['leaky_re_lu_407[0][0]']     \n",
      " 2DTranspose)                                                                                     \n",
      "                                                                                                  \n",
      " batch_normalization_354 (B  (None, 112, 112, 64)         256       ['conv2d_transpose_225[0][0]']\n",
      " atchNormalization)                                                                               \n",
      "                                                                                                  \n",
      " leaky_re_lu_408 (LeakyReLU  (None, 112, 112, 64)         0         ['batch_normalization_354[0][0\n",
      " )                                                                  ]']                           \n",
      "                                                                                                  \n",
      " conv2d_transpose_226 (Conv  (None, 224, 224, 32)         32768     ['leaky_re_lu_408[0][0]']     \n",
      " 2DTranspose)                                                                                     \n",
      "                                                                                                  \n",
      " batch_normalization_355 (B  (None, 224, 224, 32)         128       ['conv2d_transpose_226[0][0]']\n",
      " atchNormalization)                                                                               \n",
      "                                                                                                  \n",
      " leaky_re_lu_409 (LeakyReLU  (None, 224, 224, 32)         0         ['batch_normalization_355[0][0\n",
      " )                                                                  ]']                           \n",
      "                                                                                                  \n",
      " conv2d_transpose_227 (Conv  (None, 224, 224, 3)          4704      ['leaky_re_lu_409[0][0]']     \n",
      " 2DTranspose)                                                                                     \n",
      "                                                                                                  \n",
      "==================================================================================================\n",
      "Total params: 11098592 (42.34 MB)\n",
      "Trainable params: 11095328 (42.33 MB)\n",
      "Non-trainable params: 3264 (12.75 KB)\n",
      "__________________________________________________________________________________________________\n"
     ]
    }
   ],
   "source": [
    "test_gen = build_generator()\n",
    "test_gen.summary()"
   ]
  },
  {
   "cell_type": "markdown",
   "metadata": {},
   "source": [
    "Define Descriminator"
   ]
  },
  {
   "cell_type": "code",
   "execution_count": 464,
   "metadata": {},
   "outputs": [],
   "source": [
    "def build_critic(input_shape=(224,224,3),num_classes=num_classes):\n",
    "    critic_input = layers.Input(shape=input_shape)\n",
    "    labels_input = layers.Input(shape=(num_classes,))\n",
    "\n",
    "    combined_input = combine_img_labels_critic(critic_input, labels_input, input_shape)\n",
    "\n",
    "    x = layers.Conv2D(64,3,strides=2,padding='same')(combined_input)\n",
    "    x = layers.LeakyReLU(0.2)(x)\n",
    "    x = layers.Dropout(0.5)(x)\n",
    "\n",
    "    x = layers.Conv2D(128,3,strides=2,padding='same')(x)\n",
    "    x = layers.BatchNormalization()(x)\n",
    "    x = layers.LeakyReLU(0.2)(x)\n",
    "    x = layers.Dropout(0.5)(x)\n",
    "\n",
    "    x = layers.Conv2D(256,3,strides=2,padding='same')(x)\n",
    "    x = layers.BatchNormalization()(x)\n",
    "    x = layers.LeakyReLU(0.2)(x)\n",
    "    x = layers.Dropout(0.5)(x)\n",
    "\n",
    "    x = layers.Conv2D(512,3,strides=2,padding='same')(x)\n",
    "    x = layers.BatchNormalization()(x)\n",
    "    x = layers.LeakyReLU(0.2)(x)\n",
    "    x = layers.Dropout(0.5)(x)\n",
    "\n",
    "    x = layers.Conv2D(512,3,strides=2,padding='same')(x)\n",
    "    x = layers.BatchNormalization()(x)\n",
    "    x = layers.LeakyReLU(0.2)(x)\n",
    "    x = layers.Dropout(0.5)(x)\n",
    "\n",
    "    x = layers.Flatten()(x)\n",
    "\n",
    "    x = layers.Dense(120,activation='relu')(x)\n",
    "    x = layers.Dense(84,activation='relu')(x)\n",
    "    x = layers.Dropout(0.2)(x)\n",
    "    x = layers.Dense(1)(x)\n",
    "\n",
    "    critic = models.Model([critic_input, labels_input], x)\n",
    "\n",
    "    return critic\n",
    "    "
   ]
  },
  {
   "cell_type": "markdown",
   "metadata": {},
   "source": [
    "Getting discriminator Summary (Test)"
   ]
  },
  {
   "cell_type": "code",
   "execution_count": 465,
   "metadata": {},
   "outputs": [
    {
     "name": "stdout",
     "output_type": "stream",
     "text": [
      "Model: \"model_80\"\n",
      "__________________________________________________________________________________________________\n",
      " Layer (type)                Output Shape                 Param #   Connected to                  \n",
      "==================================================================================================\n",
      " input_172 (InputLayer)      [(None, 3)]                  0         []                            \n",
      "                                                                                                  \n",
      " reshape_84 (Reshape)        (None, 1, 1, 3)              0         ['input_172[0][0]']           \n",
      "                                                                                                  \n",
      " input_171 (InputLayer)      [(None, 224, 224, 3)]        0         []                            \n",
      "                                                                                                  \n",
      " tf.image.resize_46 (TFOpLa  (None, 224, 224, 3)          0         ['reshape_84[0][0]']          \n",
      " mbda)                                                                                            \n",
      "                                                                                                  \n",
      " concatenate_84 (Concatenat  (None, 224, 224, 6)          0         ['input_171[0][0]',           \n",
      " e)                                                                  'tf.image.resize_46[0][0]']  \n",
      "                                                                                                  \n",
      " conv2d_194 (Conv2D)         (None, 112, 112, 64)         3520      ['concatenate_84[0][0]']      \n",
      "                                                                                                  \n",
      " leaky_re_lu_410 (LeakyReLU  (None, 112, 112, 64)         0         ['conv2d_194[0][0]']          \n",
      " )                                                                                                \n",
      "                                                                                                  \n",
      " dropout_217 (Dropout)       (None, 112, 112, 64)         0         ['leaky_re_lu_410[0][0]']     \n",
      "                                                                                                  \n",
      " conv2d_195 (Conv2D)         (None, 56, 56, 128)          73856     ['dropout_217[0][0]']         \n",
      "                                                                                                  \n",
      " batch_normalization_356 (B  (None, 56, 56, 128)          512       ['conv2d_195[0][0]']          \n",
      " atchNormalization)                                                                               \n",
      "                                                                                                  \n",
      " leaky_re_lu_411 (LeakyReLU  (None, 56, 56, 128)          0         ['batch_normalization_356[0][0\n",
      " )                                                                  ]']                           \n",
      "                                                                                                  \n",
      " dropout_218 (Dropout)       (None, 56, 56, 128)          0         ['leaky_re_lu_411[0][0]']     \n",
      "                                                                                                  \n",
      " conv2d_196 (Conv2D)         (None, 28, 28, 256)          295168    ['dropout_218[0][0]']         \n",
      "                                                                                                  \n",
      " batch_normalization_357 (B  (None, 28, 28, 256)          1024      ['conv2d_196[0][0]']          \n",
      " atchNormalization)                                                                               \n",
      "                                                                                                  \n",
      " leaky_re_lu_412 (LeakyReLU  (None, 28, 28, 256)          0         ['batch_normalization_357[0][0\n",
      " )                                                                  ]']                           \n",
      "                                                                                                  \n",
      " dropout_219 (Dropout)       (None, 28, 28, 256)          0         ['leaky_re_lu_412[0][0]']     \n",
      "                                                                                                  \n",
      " conv2d_197 (Conv2D)         (None, 14, 14, 512)          1180160   ['dropout_219[0][0]']         \n",
      "                                                                                                  \n",
      " batch_normalization_358 (B  (None, 14, 14, 512)          2048      ['conv2d_197[0][0]']          \n",
      " atchNormalization)                                                                               \n",
      "                                                                                                  \n",
      " leaky_re_lu_413 (LeakyReLU  (None, 14, 14, 512)          0         ['batch_normalization_358[0][0\n",
      " )                                                                  ]']                           \n",
      "                                                                                                  \n",
      " dropout_220 (Dropout)       (None, 14, 14, 512)          0         ['leaky_re_lu_413[0][0]']     \n",
      "                                                                                                  \n",
      " conv2d_198 (Conv2D)         (None, 7, 7, 512)            2359808   ['dropout_220[0][0]']         \n",
      "                                                                                                  \n",
      " batch_normalization_359 (B  (None, 7, 7, 512)            2048      ['conv2d_198[0][0]']          \n",
      " atchNormalization)                                                                               \n",
      "                                                                                                  \n",
      " leaky_re_lu_414 (LeakyReLU  (None, 7, 7, 512)            0         ['batch_normalization_359[0][0\n",
      " )                                                                  ]']                           \n",
      "                                                                                                  \n",
      " dropout_221 (Dropout)       (None, 7, 7, 512)            0         ['leaky_re_lu_414[0][0]']     \n",
      "                                                                                                  \n",
      " flatten_42 (Flatten)        (None, 25088)                0         ['dropout_221[0][0]']         \n",
      "                                                                                                  \n",
      " dense_152 (Dense)           (None, 120)                  3010680   ['flatten_42[0][0]']          \n",
      "                                                                                                  \n",
      " dense_153 (Dense)           (None, 84)                   10164     ['dense_152[0][0]']           \n",
      "                                                                                                  \n",
      " dropout_222 (Dropout)       (None, 84)                   0         ['dense_153[0][0]']           \n",
      "                                                                                                  \n",
      " dense_154 (Dense)           (None, 1)                    85        ['dropout_222[0][0]']         \n",
      "                                                                                                  \n",
      "==================================================================================================\n",
      "Total params: 6939073 (26.47 MB)\n",
      "Trainable params: 6936257 (26.46 MB)\n",
      "Non-trainable params: 2816 (11.00 KB)\n",
      "__________________________________________________________________________________________________\n"
     ]
    }
   ],
   "source": [
    "disc_test = build_critic()\n",
    "disc_test.summary()"
   ]
  },
  {
   "cell_type": "markdown",
   "metadata": {},
   "source": [
    "Train Variables"
   ]
  },
  {
   "cell_type": "code",
   "execution_count": 466,
   "metadata": {},
   "outputs": [],
   "source": [
    "c_lambda = 10\n",
    "num_epochs = 20\n",
    "learning_rate = 0.00002\n",
    "critic_train_steps = 5"
   ]
  },
  {
   "cell_type": "markdown",
   "metadata": {},
   "source": [
    "Wasserstein Losses"
   ]
  },
  {
   "cell_type": "code",
   "execution_count": 467,
   "metadata": {},
   "outputs": [],
   "source": [
    "def compute_generator_loss(critic_fake_score):\n",
    "    # critic_fake_score : the critic's scores of the fake images\n",
    "    gen_loss = -tf.reduce_mean(critic_fake_score)\n",
    "    return gen_loss\n",
    "\n",
    "def compute_critic_loss(critic_fake_score,critic_real_score,gradient_penality,c_lambda=c_lambda):\n",
    "    # critic_fake_score : the critic's scores of the fake images\n",
    "    # critic_real_score : the critic's scores of the real images\n",
    "    # gradient_penality : the unweighted gradient penalty\n",
    "    # c_lambda: the current weight of the gradient penalty (hyperparameter usually initialized to 10)\n",
    "\n",
    "    critic_loss = tf.reduce_mean(critic_fake_score) - tf.reduce_mean(critic_real_score) + c_lambda * gradient_penality\n",
    "    return critic_loss\n",
    "\n",
    "    "
   ]
  },
  {
   "cell_type": "markdown",
   "metadata": {},
   "source": [
    "Gradient penality"
   ]
  },
  {
   "cell_type": "markdown",
   "metadata": {},
   "source": [
    "1) Compute Gradient with respect to images\n",
    "2) Compute Gradient Penality given the gradient"
   ]
  },
  {
   "cell_type": "markdown",
   "metadata": {},
   "source": [
    "-  The gradient is computed by first creating a mixed image.\n",
    "-  This is done by Weighing fake and real images using a parameter (epsilon) and adding them together, we will get an intermediate mixed image\n",
    "-  Get the critics output on the mixed image (crictic score)\n",
    "-  Compute the gradient of critic's score on mixed images."
   ]
  },
  {
   "cell_type": "code",
   "execution_count": 468,
   "metadata": {},
   "outputs": [],
   "source": [
    "def get_gradient(critic, real, fake, labels_one_hot, epsilon):\n",
    "    # critic : The critic model\n",
    "    # real : batch of real images\n",
    "    # fake : batch of fake images\n",
    "    # epsilon : a vector of the uniformly random proportions of real/fake per mixed image\n",
    "\n",
    "    with tf.GradientTape() as tape:\n",
    "        mixed_images = (real * epsilon) + (fake * (1 - epsilon))\n",
    "        tape.watch(mixed_images)\n",
    "        mixed_score = critic([mixed_images, labels_one_hot])\n",
    "        # print(mixed_score)\n",
    "        \n",
    "    gradient_mixed = tape.gradient(mixed_score, mixed_images)\n",
    "    # print(gradient_mixed)\n",
    "    return gradient_mixed"
   ]
  },
  {
   "cell_type": "code",
   "execution_count": 469,
   "metadata": {},
   "outputs": [],
   "source": [
    "def compute_gradient_penalty(gradient):\n",
    "    # gradient : gradient of the critic score with respect to mixed images\n",
    "\n",
    "    gradient = tf.reshape(gradient,(tf.shape(gradient)[0],-1))\n",
    "    gradient_norm = tf.norm(gradient,ord=2,axis=1)\n",
    "\n",
    "    penalty = tf.reduce_mean((gradient_norm - 1)**2)\n",
    "\n",
    "    return penalty"
   ]
  },
  {
   "cell_type": "markdown",
   "metadata": {},
   "source": [
    "Define Optimizer"
   ]
  },
  {
   "cell_type": "code",
   "execution_count": 470,
   "metadata": {},
   "outputs": [],
   "source": [
    "optimizer = tf.keras.optimizers.legacy.Adam(learning_rate=learning_rate)"
   ]
  },
  {
   "cell_type": "code",
   "execution_count": 471,
   "metadata": {},
   "outputs": [],
   "source": [
    "# count=0\n",
    "# for i in range(50):\n",
    "#     count = count+1\n",
    "#     real_batch_imgs,labels = train_generator.next()\n",
    "#     for img in real_batch_imgs:\n",
    "#         print(img.shape)\n",
    "\n",
    "# print(count)"
   ]
  },
  {
   "cell_type": "code",
   "execution_count": 472,
   "metadata": {},
   "outputs": [],
   "source": [
    "# imgs,real_labels_batch = train_generator.next()\n",
    "# real_labels_onehot = tf.one_hot(tf.argmax(real_labels_batch, axis=1), num_classes)"
   ]
  },
  {
   "cell_type": "code",
   "execution_count": 473,
   "metadata": {},
   "outputs": [],
   "source": [
    "generator = build_generator()\n",
    "critic = build_critic()"
   ]
  },
  {
   "cell_type": "code",
   "execution_count": 474,
   "metadata": {},
   "outputs": [],
   "source": [
    "# noise = tf.random.normal((batch_size,latent_dim))\n",
    "# imgs = generator([noise, real_labels_onehot])\n",
    "# import cv2\n",
    "# print(imgs.shape)"
   ]
  },
  {
   "cell_type": "markdown",
   "metadata": {},
   "source": [
    "Training"
   ]
  },
  {
   "cell_type": "code",
   "execution_count": 475,
   "metadata": {},
   "outputs": [
    {
     "ename": "KeyboardInterrupt",
     "evalue": "",
     "output_type": "error",
     "traceback": [
      "\u001b[0;31m---------------------------------------------------------------------------\u001b[0m",
      "\u001b[0;31mKeyboardInterrupt\u001b[0m                         Traceback (most recent call last)",
      "Cell \u001b[0;32mIn[475], line 30\u001b[0m\n\u001b[1;32m     27\u001b[0m     mean_iter_critic_loss \u001b[38;5;241m+\u001b[39m\u001b[38;5;241m=\u001b[39m critic_loss \u001b[38;5;241m/\u001b[39m critic_train_steps\n\u001b[1;32m     29\u001b[0m     \u001b[38;5;66;03m# Update gradients\u001b[39;00m\n\u001b[0;32m---> 30\u001b[0m     critic_gradients \u001b[38;5;241m=\u001b[39m \u001b[43mcritic_tape\u001b[49m\u001b[38;5;241;43m.\u001b[39;49m\u001b[43mgradient\u001b[49m\u001b[43m(\u001b[49m\u001b[43mcritic_loss\u001b[49m\u001b[43m,\u001b[49m\u001b[43m \u001b[49m\u001b[43mcritic\u001b[49m\u001b[38;5;241;43m.\u001b[39;49m\u001b[43mtrainable_variables\u001b[49m\u001b[43m)\u001b[49m\n\u001b[1;32m     31\u001b[0m     optimizer\u001b[38;5;241m.\u001b[39mapply_gradients(\u001b[38;5;28mzip\u001b[39m(critic_gradients, critic\u001b[38;5;241m.\u001b[39mtrainable_variables))\n\u001b[1;32m     33\u001b[0m critic_losses\u001b[38;5;241m.\u001b[39mappend(mean_iter_critic_loss\u001b[38;5;241m.\u001b[39mnumpy())\n",
      "File \u001b[0;32m~/osteoscarcoma_evaluation_project/osteoenv/osteoenv/lib/python3.11/site-packages/tensorflow/python/eager/backprop.py:1066\u001b[0m, in \u001b[0;36mGradientTape.gradient\u001b[0;34m(self, target, sources, output_gradients, unconnected_gradients)\u001b[0m\n\u001b[1;32m   1060\u001b[0m   output_gradients \u001b[38;5;241m=\u001b[39m (\n\u001b[1;32m   1061\u001b[0m       composite_tensor_gradient\u001b[38;5;241m.\u001b[39mget_flat_tensors_for_gradients(\n\u001b[1;32m   1062\u001b[0m           output_gradients))\n\u001b[1;32m   1063\u001b[0m   output_gradients \u001b[38;5;241m=\u001b[39m [\u001b[38;5;28;01mNone\u001b[39;00m \u001b[38;5;28;01mif\u001b[39;00m x \u001b[38;5;129;01mis\u001b[39;00m \u001b[38;5;28;01mNone\u001b[39;00m \u001b[38;5;28;01melse\u001b[39;00m ops\u001b[38;5;241m.\u001b[39mconvert_to_tensor(x)\n\u001b[1;32m   1064\u001b[0m                       \u001b[38;5;28;01mfor\u001b[39;00m x \u001b[38;5;129;01min\u001b[39;00m output_gradients]\n\u001b[0;32m-> 1066\u001b[0m flat_grad \u001b[38;5;241m=\u001b[39m \u001b[43mimperative_grad\u001b[49m\u001b[38;5;241;43m.\u001b[39;49m\u001b[43mimperative_grad\u001b[49m\u001b[43m(\u001b[49m\n\u001b[1;32m   1067\u001b[0m \u001b[43m    \u001b[49m\u001b[38;5;28;43mself\u001b[39;49m\u001b[38;5;241;43m.\u001b[39;49m\u001b[43m_tape\u001b[49m\u001b[43m,\u001b[49m\n\u001b[1;32m   1068\u001b[0m \u001b[43m    \u001b[49m\u001b[43mflat_targets\u001b[49m\u001b[43m,\u001b[49m\n\u001b[1;32m   1069\u001b[0m \u001b[43m    \u001b[49m\u001b[43mflat_sources\u001b[49m\u001b[43m,\u001b[49m\n\u001b[1;32m   1070\u001b[0m \u001b[43m    \u001b[49m\u001b[43moutput_gradients\u001b[49m\u001b[38;5;241;43m=\u001b[39;49m\u001b[43moutput_gradients\u001b[49m\u001b[43m,\u001b[49m\n\u001b[1;32m   1071\u001b[0m \u001b[43m    \u001b[49m\u001b[43msources_raw\u001b[49m\u001b[38;5;241;43m=\u001b[39;49m\u001b[43mflat_sources_raw\u001b[49m\u001b[43m,\u001b[49m\n\u001b[1;32m   1072\u001b[0m \u001b[43m    \u001b[49m\u001b[43munconnected_gradients\u001b[49m\u001b[38;5;241;43m=\u001b[39;49m\u001b[43munconnected_gradients\u001b[49m\u001b[43m)\u001b[49m\n\u001b[1;32m   1074\u001b[0m \u001b[38;5;28;01mif\u001b[39;00m \u001b[38;5;129;01mnot\u001b[39;00m \u001b[38;5;28mself\u001b[39m\u001b[38;5;241m.\u001b[39m_persistent:\n\u001b[1;32m   1075\u001b[0m   \u001b[38;5;66;03m# Keep track of watched variables before setting tape to None\u001b[39;00m\n\u001b[1;32m   1076\u001b[0m   \u001b[38;5;28mself\u001b[39m\u001b[38;5;241m.\u001b[39m_watched_variables \u001b[38;5;241m=\u001b[39m \u001b[38;5;28mself\u001b[39m\u001b[38;5;241m.\u001b[39m_tape\u001b[38;5;241m.\u001b[39mwatched_variables()\n",
      "File \u001b[0;32m~/osteoscarcoma_evaluation_project/osteoenv/osteoenv/lib/python3.11/site-packages/tensorflow/python/eager/imperative_grad.py:67\u001b[0m, in \u001b[0;36mimperative_grad\u001b[0;34m(tape, target, sources, output_gradients, sources_raw, unconnected_gradients)\u001b[0m\n\u001b[1;32m     63\u001b[0m \u001b[38;5;28;01mexcept\u001b[39;00m \u001b[38;5;167;01mValueError\u001b[39;00m:\n\u001b[1;32m     64\u001b[0m   \u001b[38;5;28;01mraise\u001b[39;00m \u001b[38;5;167;01mValueError\u001b[39;00m(\n\u001b[1;32m     65\u001b[0m       \u001b[38;5;124m\"\u001b[39m\u001b[38;5;124mUnknown value for unconnected_gradients: \u001b[39m\u001b[38;5;132;01m%r\u001b[39;00m\u001b[38;5;124m\"\u001b[39m \u001b[38;5;241m%\u001b[39m unconnected_gradients)\n\u001b[0;32m---> 67\u001b[0m \u001b[38;5;28;01mreturn\u001b[39;00m \u001b[43mpywrap_tfe\u001b[49m\u001b[38;5;241;43m.\u001b[39;49m\u001b[43mTFE_Py_TapeGradient\u001b[49m\u001b[43m(\u001b[49m\n\u001b[1;32m     68\u001b[0m \u001b[43m    \u001b[49m\u001b[43mtape\u001b[49m\u001b[38;5;241;43m.\u001b[39;49m\u001b[43m_tape\u001b[49m\u001b[43m,\u001b[49m\u001b[43m  \u001b[49m\u001b[38;5;66;43;03m# pylint: disable=protected-access\u001b[39;49;00m\n\u001b[1;32m     69\u001b[0m \u001b[43m    \u001b[49m\u001b[43mtarget\u001b[49m\u001b[43m,\u001b[49m\n\u001b[1;32m     70\u001b[0m \u001b[43m    \u001b[49m\u001b[43msources\u001b[49m\u001b[43m,\u001b[49m\n\u001b[1;32m     71\u001b[0m \u001b[43m    \u001b[49m\u001b[43moutput_gradients\u001b[49m\u001b[43m,\u001b[49m\n\u001b[1;32m     72\u001b[0m \u001b[43m    \u001b[49m\u001b[43msources_raw\u001b[49m\u001b[43m,\u001b[49m\n\u001b[1;32m     73\u001b[0m \u001b[43m    \u001b[49m\u001b[43mcompat\u001b[49m\u001b[38;5;241;43m.\u001b[39;49m\u001b[43mas_str\u001b[49m\u001b[43m(\u001b[49m\u001b[43munconnected_gradients\u001b[49m\u001b[38;5;241;43m.\u001b[39;49m\u001b[43mvalue\u001b[49m\u001b[43m)\u001b[49m\u001b[43m)\u001b[49m\n",
      "File \u001b[0;32m~/osteoscarcoma_evaluation_project/osteoenv/osteoenv/lib/python3.11/site-packages/tensorflow/python/eager/backprop.py:118\u001b[0m, in \u001b[0;36m_gradient_function\u001b[0;34m(op_name, attr_tuple, num_inputs, inputs, outputs, out_grads, skip_input_indices, forward_pass_name_scope)\u001b[0m\n\u001b[1;32m    109\u001b[0m   \u001b[38;5;28;01mdef\u001b[39;00m \u001b[38;5;21m_get_control_flow_context\u001b[39m(\u001b[38;5;28mself\u001b[39m):\n\u001b[1;32m    110\u001b[0m     \u001b[38;5;28;01mraise\u001b[39;00m \u001b[38;5;167;01mNotImplementedError\u001b[39;00m(\n\u001b[1;32m    111\u001b[0m         \u001b[38;5;124m\"\u001b[39m\u001b[38;5;124mtf.GradientTape.gradients() does not support graph control flow \u001b[39m\u001b[38;5;124m\"\u001b[39m\n\u001b[1;32m    112\u001b[0m         \u001b[38;5;124m\"\u001b[39m\u001b[38;5;124moperations like tf.cond or tf.while at this time. Use tf.gradients() \u001b[39m\u001b[38;5;124m\"\u001b[39m\n\u001b[1;32m    113\u001b[0m         \u001b[38;5;124m\"\u001b[39m\u001b[38;5;124minstead. If you need this feature, please file a feature request at \u001b[39m\u001b[38;5;124m\"\u001b[39m\n\u001b[1;32m    114\u001b[0m         \u001b[38;5;124m\"\u001b[39m\u001b[38;5;124mhttps://github.com/tensorflow/tensorflow/issues/new\u001b[39m\u001b[38;5;124m\"\u001b[39m\n\u001b[1;32m    115\u001b[0m     )\n\u001b[0;32m--> 118\u001b[0m \u001b[38;5;28;01mdef\u001b[39;00m \u001b[38;5;21m_gradient_function\u001b[39m(op_name, attr_tuple, num_inputs, inputs, outputs,\n\u001b[1;32m    119\u001b[0m                        out_grads, skip_input_indices, forward_pass_name_scope):\n\u001b[1;32m    120\u001b[0m \u001b[38;5;250m  \u001b[39m\u001b[38;5;124;03m\"\"\"Calls the gradient function of the op.\u001b[39;00m\n\u001b[1;32m    121\u001b[0m \n\u001b[1;32m    122\u001b[0m \u001b[38;5;124;03m  Args:\u001b[39;00m\n\u001b[0;32m   (...)\u001b[0m\n\u001b[1;32m    134\u001b[0m \u001b[38;5;124;03m    The gradients with respect to the inputs of the function, as a list.\u001b[39;00m\n\u001b[1;32m    135\u001b[0m \u001b[38;5;124;03m  \"\"\"\u001b[39;00m\n\u001b[1;32m    136\u001b[0m   mock_op \u001b[38;5;241m=\u001b[39m _MockOp(attr_tuple, inputs, outputs, op_name, skip_input_indices)\n",
      "\u001b[0;31mKeyboardInterrupt\u001b[0m: "
     ]
    }
   ],
   "source": [
    "current_step = 0\n",
    "display_step = 1\n",
    "generator_losses = []\n",
    "critic_losses = []\n",
    "\n",
    "for epoch in range(num_epochs):\n",
    "    for batch in range(len(train_generator)):\n",
    "        real_images_batch, labels = train_generator.next()\n",
    "        one_hot_labels = tf.one_hot(tf.argmax(labels, axis=1), num_classes)\n",
    "\n",
    "        mean_iter_critic_loss = 0\n",
    "        for step in range(critic_train_steps):\n",
    "            ## Upadate Critic \n",
    "            with tf.GradientTape() as critic_tape:\n",
    "                fake_noise = tf.random.normal(shape=(batch_size,latent_dim))\n",
    "                generated_images = generator([fake_noise, one_hot_labels])\n",
    "\n",
    "                critic_fake_predictions = critic([generated_images, one_hot_labels],training=True)\n",
    "                critic_real_predictions = critic([real_images_batch, one_hot_labels],training=True)\n",
    "\n",
    "                epsilon = tf.random.uniform((batch_size,1,1,1))\n",
    "                gradient_mix = get_gradient(critic=critic, real=real_images_batch, fake=generated_images, labels_one_hot=one_hot_labels, epsilon=epsilon)\n",
    "                gradient_penalty = compute_gradient_penalty(gradient_mix)\n",
    "                critic_loss = compute_critic_loss(critic_fake_score=critic_fake_predictions, critic_real_score=critic_real_predictions,gradient_penality=gradient_penalty,c_lambda=c_lambda)\n",
    "            \n",
    "            # Keep track of the average critic loss in this batch\n",
    "            mean_iter_critic_loss += critic_loss / critic_train_steps\n",
    "\n",
    "            # Update gradients\n",
    "            critic_gradients = critic_tape.gradient(critic_loss, critic.trainable_variables)\n",
    "            optimizer.apply_gradients(zip(critic_gradients, critic.trainable_variables))\n",
    "        \n",
    "        critic_losses.append(mean_iter_critic_loss.numpy())\n",
    "\n",
    "        # Update Generator\n",
    "        with tf.GradientTape() as generator_tape:\n",
    "            fake_noise_2 = tf.random.normal(shape=(batch_size,latent_dim))\n",
    "            generated_images_2 = generator([fake_noise_2, one_hot_labels],training=True)\n",
    "            critic_fake_predictions_2 = critic([generated_images_2, one_hot_labels],training=True)\n",
    "            generator_loss = compute_generator_loss(critic_fake_score=critic_fake_predictions_2)\n",
    "        \n",
    "        # Update Weights\n",
    "        generator_gradients = generator_tape.gradient(generator_loss, generator.trainable_variables)\n",
    "        optimizer.apply_gradients(zip(generator_gradients, generator.trainable_variables))\n",
    "\n",
    "        generator_losses.append(generator_loss.numpy())\n",
    "\n",
    "        if current_step % display_step == 0 and current_step > 0:\n",
    "            gen_mean = sum(generator_losses[-display_step:]) / display_step\n",
    "            crit_mean = sum(critic_losses[-display_step:]) / display_step\n",
    "            print(f\"Epoch {epoch}, step {current_step}: Generator loss: {gen_mean}, critic loss: {crit_mean}\")\n",
    "\n",
    "        \n",
    "\n",
    "\n",
    "        \n",
    "        "
   ]
  },
  {
   "cell_type": "code",
   "execution_count": null,
   "metadata": {},
   "outputs": [],
   "source": []
  }
 ],
 "metadata": {
  "kernelspec": {
   "display_name": "osteoenv",
   "language": "python",
   "name": "python3"
  },
  "language_info": {
   "codemirror_mode": {
    "name": "ipython",
    "version": 3
   },
   "file_extension": ".py",
   "mimetype": "text/x-python",
   "name": "python",
   "nbconvert_exporter": "python",
   "pygments_lexer": "ipython3",
   "version": "3.11.3"
  }
 },
 "nbformat": 4,
 "nbformat_minor": 2
}
