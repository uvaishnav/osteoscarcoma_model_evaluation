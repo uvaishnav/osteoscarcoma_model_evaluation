{
 "cells": [
  {
   "cell_type": "code",
   "execution_count": 29,
   "metadata": {},
   "outputs": [],
   "source": [
    "import tensorflow as tf\n",
    "import numpy as np"
   ]
  },
  {
   "cell_type": "code",
   "execution_count": 30,
   "metadata": {},
   "outputs": [],
   "source": [
    "from tensorflow.keras.preprocessing.image import ImageDataGenerator"
   ]
  },
  {
   "cell_type": "code",
   "execution_count": 31,
   "metadata": {},
   "outputs": [],
   "source": [
    "import numpy as np\n",
    "from tensorflow.keras import layers,models"
   ]
  },
  {
   "cell_type": "markdown",
   "metadata": {},
   "source": [
    "Train Directory "
   ]
  },
  {
   "cell_type": "code",
   "execution_count": 32,
   "metadata": {},
   "outputs": [],
   "source": [
    "train_dir = '/Users/uvaishnav/osteoscarcoma_evaluation_project/artifacts/train'"
   ]
  },
  {
   "cell_type": "markdown",
   "metadata": {},
   "source": [
    "Defining fixed Variables"
   ]
  },
  {
   "cell_type": "code",
   "execution_count": 33,
   "metadata": {},
   "outputs": [],
   "source": [
    "img_height = 224\n",
    "img_width = 224\n",
    "batch_size = 32\n",
    "num_classes =3"
   ]
  },
  {
   "cell_type": "markdown",
   "metadata": {},
   "source": [
    "Load Images"
   ]
  },
  {
   "cell_type": "code",
   "execution_count": 34,
   "metadata": {},
   "outputs": [
    {
     "name": "stdout",
     "output_type": "stream",
     "text": [
      "Found 800 images belonging to 3 classes.\n"
     ]
    }
   ],
   "source": [
    "datagen = ImageDataGenerator(\n",
    "    rescale = 1/255.0\n",
    ")\n",
    "\n",
    "train_generator = datagen.flow_from_directory(\n",
    "    train_dir,\n",
    "    target_size = (img_height,img_width),\n",
    "    batch_size = batch_size,\n",
    "    class_mode = 'categorical',\n",
    "    shuffle = True\n",
    ")"
   ]
  },
  {
   "cell_type": "markdown",
   "metadata": {},
   "source": [
    "Adaptive Normalization"
   ]
  },
  {
   "cell_type": "markdown",
   "metadata": {},
   "source": [
    "Instead of using BatchNormalization, which normalizes each feature map based on the statistics computed over the entire batch, it is prefered to to use adaptive normalization technique similar to SPADE. \n",
    "his allows adaptive Normalization based on class labels.(meaning it can adapt normalization parameters based on the semantic content of the input)"
   ]
  },
  {
   "cell_type": "code",
   "execution_count": 35,
   "metadata": {},
   "outputs": [],
   "source": [
    "class SPADE(layers.Layer):\n",
    "    def __init__(self):                  ## This defines a custom Keras layer named SPADE. It inherits from the layers.Layer class, which is the base class for all Keras layers. \n",
    "        super(SPADE,self).__init__()\n",
    "    \n",
    "    def build(self,input_shape):\n",
    "        input_shape = input_shape[0].as_list()\n",
    "        print(input_shape)\n",
    "        self.gama_fc = layers.Dense(input_shape[-1],use_bias=False)     # Scale Parameter\n",
    "        self.beta_fc = layers.Dense(input_shape[-1],use_bias=False)     # Shift Parameter\n",
    "\n",
    "    def call(self,inputs):\n",
    "        x, cls_info = inputs\n",
    "        gama = self.gama_fc(cls_info)\n",
    "        beta = self.beta_fc(cls_info)\n",
    "\n",
    "        return gama[:,None,None] * x + beta[:,None,None]"
   ]
  },
  {
   "cell_type": "markdown",
   "metadata": {},
   "source": [
    "Define Generator"
   ]
  },
  {
   "cell_type": "code",
   "execution_count": 36,
   "metadata": {},
   "outputs": [],
   "source": [
    "def build_generator(latent_dim=100,num_classes=num_classes):\n",
    "    generator_input = layers.Input(shape=(latent_dim,))\n",
    "    labels_input = layers.Input(shape=(num_classes,))\n",
    "    combined_input = layers.concatenate([generator_input,labels_input])\n",
    "\n",
    "    x = layers.Dense(7*7*512, use_bias=False)(combined_input)\n",
    "    x = layers.Reshape((7,7,512))(x)\n",
    "    x = SPADE()([x,labels_input])\n",
    "    x = layers.LeakyReLU(0.2)(x)\n",
    "\n",
    "    x = layers.Conv2DTranspose(512, 5, strides=2, padding='same', use_bias=False)(x)\n",
    "    x = SPADE()([x,labels_input])\n",
    "    x = layers.LeakyReLU(0.2)(x)\n",
    "\n",
    "    x = layers.Conv2DTranspose(256, 3, strides=2, padding='same', use_bias=False)(x)\n",
    "    x = SPADE()([x,labels_input])\n",
    "    x = layers.LeakyReLU(0.2)(x)\n",
    "\n",
    "    x = layers.Conv2DTranspose(256, 3, strides=2, padding='same', use_bias=False)(x)\n",
    "    x = SPADE()([x,labels_input])\n",
    "    x = layers.LeakyReLU(0.2)(x)\n",
    "\n",
    "    x = layers.Conv2DTranspose(64, 3, strides=2, padding='same', use_bias=False)(x)\n",
    "    x = SPADE()([x,labels_input])\n",
    "    x = layers.LeakyReLU(0.2)(x)\n",
    "\n",
    "    x = layers.Conv2DTranspose(32, 4, strides=2, padding='same', use_bias=False)(x)\n",
    "    x = SPADE()([x,labels_input])\n",
    "    x = layers.LeakyReLU(0.2)(x)\n",
    "\n",
    "    x = layers.Conv2DTranspose(3,7,padding='same',activation='tanh',use_bias=False)(x)\n",
    "\n",
    "\n",
    "\n",
    "    generator = models.Model([generator_input, labels_input],x)\n",
    "    return generator\n",
    "\n",
    "\n"
   ]
  },
  {
   "cell_type": "markdown",
   "metadata": {},
   "source": [
    "Gettig generator Summary (test)"
   ]
  },
  {
   "cell_type": "code",
   "execution_count": 37,
   "metadata": {},
   "outputs": [
    {
     "name": "stdout",
     "output_type": "stream",
     "text": [
      "[None, 7, 7, 512]\n",
      "[None, 14, 14, 512]\n",
      "[None, 28, 28, 256]\n",
      "[None, 56, 56, 256]\n",
      "[None, 112, 112, 64]\n",
      "[None, 224, 224, 32]\n",
      "Model: \"model_7\"\n",
      "__________________________________________________________________________________________________\n",
      " Layer (type)                Output Shape                 Param #   Connected to                  \n",
      "==================================================================================================\n",
      " input_22 (InputLayer)       [(None, 100)]                0         []                            \n",
      "                                                                                                  \n",
      " input_23 (InputLayer)       [(None, 3)]                  0         []                            \n",
      "                                                                                                  \n",
      " concatenate_10 (Concatenat  (None, 103)                  0         ['input_22[0][0]',            \n",
      " e)                                                                  'input_23[0][0]']            \n",
      "                                                                                                  \n",
      " dense_7 (Dense)             (None, 25088)                2584064   ['concatenate_10[0][0]']      \n",
      "                                                                                                  \n",
      " reshape_10 (Reshape)        (None, 7, 7, 512)            0         ['dense_7[0][0]']             \n",
      "                                                                                                  \n",
      " spade_6 (SPADE)             (None, 7, 7, 512)            3072      ['reshape_10[0][0]',          \n",
      "                                                                     'input_23[0][0]']            \n",
      "                                                                                                  \n",
      " leaky_re_lu_6 (LeakyReLU)   (None, 7, 7, 512)            0         ['spade_6[0][0]']             \n",
      "                                                                                                  \n",
      " conv2d_transpose_6 (Conv2D  (None, 14, 14, 512)          6553600   ['leaky_re_lu_6[0][0]']       \n",
      " Transpose)                                                                                       \n",
      "                                                                                                  \n",
      " spade_7 (SPADE)             (None, 14, 14, 512)          3072      ['conv2d_transpose_6[0][0]',  \n",
      "                                                                     'input_23[0][0]']            \n",
      "                                                                                                  \n",
      " leaky_re_lu_7 (LeakyReLU)   (None, 14, 14, 512)          0         ['spade_7[0][0]']             \n",
      "                                                                                                  \n",
      " conv2d_transpose_7 (Conv2D  (None, 28, 28, 256)          1179648   ['leaky_re_lu_7[0][0]']       \n",
      " Transpose)                                                                                       \n",
      "                                                                                                  \n",
      " spade_8 (SPADE)             (None, 28, 28, 256)          1536      ['conv2d_transpose_7[0][0]',  \n",
      "                                                                     'input_23[0][0]']            \n",
      "                                                                                                  \n",
      " leaky_re_lu_8 (LeakyReLU)   (None, 28, 28, 256)          0         ['spade_8[0][0]']             \n",
      "                                                                                                  \n",
      " conv2d_transpose_8 (Conv2D  (None, 56, 56, 256)          589824    ['leaky_re_lu_8[0][0]']       \n",
      " Transpose)                                                                                       \n",
      "                                                                                                  \n",
      " spade_9 (SPADE)             (None, 56, 56, 256)          1536      ['conv2d_transpose_8[0][0]',  \n",
      "                                                                     'input_23[0][0]']            \n",
      "                                                                                                  \n",
      " leaky_re_lu_9 (LeakyReLU)   (None, 56, 56, 256)          0         ['spade_9[0][0]']             \n",
      "                                                                                                  \n",
      " conv2d_transpose_9 (Conv2D  (None, 112, 112, 64)         147456    ['leaky_re_lu_9[0][0]']       \n",
      " Transpose)                                                                                       \n",
      "                                                                                                  \n",
      " spade_10 (SPADE)            (None, 112, 112, 64)         384       ['conv2d_transpose_9[0][0]',  \n",
      "                                                                     'input_23[0][0]']            \n",
      "                                                                                                  \n",
      " leaky_re_lu_10 (LeakyReLU)  (None, 112, 112, 64)         0         ['spade_10[0][0]']            \n",
      "                                                                                                  \n",
      " conv2d_transpose_10 (Conv2  (None, 224, 224, 32)         32768     ['leaky_re_lu_10[0][0]']      \n",
      " DTranspose)                                                                                      \n",
      "                                                                                                  \n",
      " spade_11 (SPADE)            (None, 224, 224, 32)         192       ['conv2d_transpose_10[0][0]', \n",
      "                                                                     'input_23[0][0]']            \n",
      "                                                                                                  \n",
      " leaky_re_lu_11 (LeakyReLU)  (None, 224, 224, 32)         0         ['spade_11[0][0]']            \n",
      "                                                                                                  \n",
      " conv2d_transpose_11 (Conv2  (None, 224, 224, 3)          4704      ['leaky_re_lu_11[0][0]']      \n",
      " DTranspose)                                                                                      \n",
      "                                                                                                  \n",
      "==================================================================================================\n",
      "Total params: 11101856 (42.35 MB)\n",
      "Trainable params: 11101856 (42.35 MB)\n",
      "Non-trainable params: 0 (0.00 Byte)\n",
      "__________________________________________________________________________________________________\n"
     ]
    }
   ],
   "source": [
    "test_gen = build_generator()\n",
    "test_gen.summary()"
   ]
  },
  {
   "cell_type": "markdown",
   "metadata": {},
   "source": [
    "Define Descriminator"
   ]
  },
  {
   "cell_type": "code",
   "execution_count": 40,
   "metadata": {},
   "outputs": [],
   "source": [
    "def build_discriminator(input_shape=(224,224,3),num_classes=num_classes):\n",
    "    discriminator_input = layers.Input(shape=input_shape)\n",
    "    labels_input = layers.Input(shape=(num_classes,))\n",
    "\n",
    "    label_resized = layers.Reshape((1, 1, num_classes))(labels_input)                  # making label size consistent to image size\n",
    "    label_resized = tf.image.resize(label_resized, (input_shape[0], input_shape[1]))\n",
    "\n",
    "    combined_input = layers.Concatenate(axis=-1)([discriminator_input, label_resized])\n",
    "\n",
    "    x = layers.Conv2D(64,3,strides=2,padding='same')(combined_input)\n",
    "    x = layers.LeakyReLU(0.2)(x)\n",
    "    x = layers.Dropout(0.5)(x)\n",
    "\n",
    "    x = layers.Conv2D(128,3,strides=2,padding='same')(x)\n",
    "    x = SPADE()([x,labels_input])\n",
    "    x = layers.LeakyReLU(0.2)(x)\n",
    "    x = layers.Dropout(0.5)(x)\n",
    "\n",
    "    x = layers.Conv2D(256,3,strides=2,padding='same')(x)\n",
    "    x = SPADE()([x,labels_input])\n",
    "    x = layers.LeakyReLU(0.2)(x)\n",
    "    x = layers.Dropout(0.5)(x)\n",
    "\n",
    "    x = layers.Conv2D(512,3,strides=2,padding='same')(x)\n",
    "    x = SPADE()([x,labels_input])\n",
    "    x = layers.LeakyReLU(0.2)(x)\n",
    "    x = layers.Dropout(0.5)(x)\n",
    "\n",
    "    x = layers.Conv2D(512,3,strides=2,padding='same')(x)\n",
    "    x = SPADE()([x,labels_input])\n",
    "    x = layers.LeakyReLU(0.2)(x)\n",
    "    x = layers.Dropout(0.5)(x)\n",
    "\n",
    "    x = layers.Flatten()(x)\n",
    "\n",
    "    x = layers.Dense(120,activation='relu')(x)\n",
    "    x = layers.Dense(84,activation='relu')(x)\n",
    "    x = layers.Dropout(0.2)(x)\n",
    "    x = layers.Dense(1,activation='sigmoid')(x)\n",
    "\n",
    "    discriminator = models.Model([discriminator_input, labels_input], x)\n",
    "\n",
    "    return discriminator\n",
    "    "
   ]
  },
  {
   "cell_type": "markdown",
   "metadata": {},
   "source": [
    "Getting discriminator Summary (Test)"
   ]
  },
  {
   "cell_type": "code",
   "execution_count": 41,
   "metadata": {},
   "outputs": [
    {
     "name": "stdout",
     "output_type": "stream",
     "text": [
      "[None, 56, 56, 128]\n",
      "[None, 28, 28, 256]\n",
      "[None, 14, 14, 512]\n",
      "[None, 7, 7, 512]\n",
      "Model: \"model_8\"\n",
      "__________________________________________________________________________________________________\n",
      " Layer (type)                Output Shape                 Param #   Connected to                  \n",
      "==================================================================================================\n",
      " input_27 (InputLayer)       [(None, 3)]                  0         []                            \n",
      "                                                                                                  \n",
      " reshape_12 (Reshape)        (None, 1, 1, 3)              0         ['input_27[0][0]']            \n",
      "                                                                                                  \n",
      " input_26 (InputLayer)       [(None, 224, 224, 3)]        0         []                            \n",
      "                                                                                                  \n",
      " tf.image.resize_10 (TFOpLa  (None, 224, 224, 3)          0         ['reshape_12[0][0]']          \n",
      " mbda)                                                                                            \n",
      "                                                                                                  \n",
      " concatenate_12 (Concatenat  (None, 224, 224, 6)          0         ['input_26[0][0]',            \n",
      " e)                                                                  'tf.image.resize_10[0][0]']  \n",
      "                                                                                                  \n",
      " conv2d_14 (Conv2D)          (None, 112, 112, 64)         3520      ['concatenate_12[0][0]']      \n",
      "                                                                                                  \n",
      " leaky_re_lu_14 (LeakyReLU)  (None, 112, 112, 64)         0         ['conv2d_14[0][0]']           \n",
      "                                                                                                  \n",
      " dropout_1 (Dropout)         (None, 112, 112, 64)         0         ['leaky_re_lu_14[0][0]']      \n",
      "                                                                                                  \n",
      " conv2d_15 (Conv2D)          (None, 56, 56, 128)          73856     ['dropout_1[0][0]']           \n",
      "                                                                                                  \n",
      " spade_13 (SPADE)            (None, 56, 56, 128)          768       ['conv2d_15[0][0]',           \n",
      "                                                                     'input_27[0][0]']            \n",
      "                                                                                                  \n",
      " leaky_re_lu_15 (LeakyReLU)  (None, 56, 56, 128)          0         ['spade_13[0][0]']            \n",
      "                                                                                                  \n",
      " dropout_2 (Dropout)         (None, 56, 56, 128)          0         ['leaky_re_lu_15[0][0]']      \n",
      "                                                                                                  \n",
      " conv2d_16 (Conv2D)          (None, 28, 28, 256)          295168    ['dropout_2[0][0]']           \n",
      "                                                                                                  \n",
      " spade_14 (SPADE)            (None, 28, 28, 256)          1536      ['conv2d_16[0][0]',           \n",
      "                                                                     'input_27[0][0]']            \n",
      "                                                                                                  \n",
      " leaky_re_lu_16 (LeakyReLU)  (None, 28, 28, 256)          0         ['spade_14[0][0]']            \n",
      "                                                                                                  \n",
      " dropout_3 (Dropout)         (None, 28, 28, 256)          0         ['leaky_re_lu_16[0][0]']      \n",
      "                                                                                                  \n",
      " conv2d_17 (Conv2D)          (None, 14, 14, 512)          1180160   ['dropout_3[0][0]']           \n",
      "                                                                                                  \n",
      " spade_15 (SPADE)            (None, 14, 14, 512)          3072      ['conv2d_17[0][0]',           \n",
      "                                                                     'input_27[0][0]']            \n",
      "                                                                                                  \n",
      " leaky_re_lu_17 (LeakyReLU)  (None, 14, 14, 512)          0         ['spade_15[0][0]']            \n",
      "                                                                                                  \n",
      " dropout_4 (Dropout)         (None, 14, 14, 512)          0         ['leaky_re_lu_17[0][0]']      \n",
      "                                                                                                  \n",
      " conv2d_18 (Conv2D)          (None, 7, 7, 512)            2359808   ['dropout_4[0][0]']           \n",
      "                                                                                                  \n",
      " spade_16 (SPADE)            (None, 7, 7, 512)            3072      ['conv2d_18[0][0]',           \n",
      "                                                                     'input_27[0][0]']            \n",
      "                                                                                                  \n",
      " leaky_re_lu_18 (LeakyReLU)  (None, 7, 7, 512)            0         ['spade_16[0][0]']            \n",
      "                                                                                                  \n",
      " dropout_5 (Dropout)         (None, 7, 7, 512)            0         ['leaky_re_lu_18[0][0]']      \n",
      "                                                                                                  \n",
      " flatten_6 (Flatten)         (None, 25088)                0         ['dropout_5[0][0]']           \n",
      "                                                                                                  \n",
      " dense_8 (Dense)             (None, 120)                  3010680   ['flatten_6[0][0]']           \n",
      "                                                                                                  \n",
      " dense_9 (Dense)             (None, 84)                   10164     ['dense_8[0][0]']             \n",
      "                                                                                                  \n",
      " dropout_6 (Dropout)         (None, 84)                   0         ['dense_9[0][0]']             \n",
      "                                                                                                  \n",
      " dense_10 (Dense)            (None, 1)                    85        ['dropout_6[0][0]']           \n",
      "                                                                                                  \n",
      "==================================================================================================\n",
      "Total params: 6941889 (26.48 MB)\n",
      "Trainable params: 6941889 (26.48 MB)\n",
      "Non-trainable params: 0 (0.00 Byte)\n",
      "__________________________________________________________________________________________________\n"
     ]
    }
   ],
   "source": [
    "disc_test = build_discriminator()\n",
    "disc_test.summary()"
   ]
  },
  {
   "cell_type": "markdown",
   "metadata": {},
   "source": []
  }
 ],
 "metadata": {
  "kernelspec": {
   "display_name": "osteoenv",
   "language": "python",
   "name": "python3"
  },
  "language_info": {
   "codemirror_mode": {
    "name": "ipython",
    "version": 3
   },
   "file_extension": ".py",
   "mimetype": "text/x-python",
   "name": "python",
   "nbconvert_exporter": "python",
   "pygments_lexer": "ipython3",
   "version": "3.11.3"
  }
 },
 "nbformat": 4,
 "nbformat_minor": 2
}
